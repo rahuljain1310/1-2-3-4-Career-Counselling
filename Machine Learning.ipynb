{
 "cells": [
  {
   "cell_type": "code",
   "execution_count": 1,
   "metadata": {},
   "outputs": [],
   "source": [
    "### Sigmoids\n",
    "def sigmoid(z):\n",
    "    return(1 / (1 + np.exp(-z)))\n",
    "def sigmoidGradient(z):\n",
    "    return(sigmoid(z)*(1-sigmoid(z)))"
   ]
  },
  {
   "cell_type": "code",
   "execution_count": null,
   "metadata": {},
   "outputs": [],
   "source": [
    "## Loading of Data\n",
    "X = []\n",
    "Y = []\n",
    "num_features = 7\n",
    "with open('neuraldataset.csv','r') as csvfile: \n",
    "    csvreader = csv.reader(csvfile)\n",
    "    for row in csvreader:\n",
    "        row1 = [float(c) for c in row]\n",
    "        X.append(row1[:num_features-1])\n",
    "        Y.append(row1[num_features:])"
   ]
  }
 ],
 "metadata": {
  "kernelspec": {
   "display_name": "Python 3",
   "language": "python",
   "name": "python3"
  },
  "language_info": {
   "codemirror_mode": {
    "name": "ipython",
    "version": 3
   },
   "file_extension": ".py",
   "mimetype": "text/x-python",
   "name": "python",
   "nbconvert_exporter": "python",
   "pygments_lexer": "ipython3",
   "version": "3.7.1"
  }
 },
 "nbformat": 4,
 "nbformat_minor": 2
}
