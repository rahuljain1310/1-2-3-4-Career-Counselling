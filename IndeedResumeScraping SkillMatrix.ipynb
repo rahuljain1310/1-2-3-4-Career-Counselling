{
 "cells": [
  {
   "cell_type": "code",
   "execution_count": 230,
   "metadata": {},
   "outputs": [],
   "source": [
    "from collections import Counter\n",
    "import re\n",
    "import math\n",
    "import pandas as pd\n",
    "import random"
   ]
  },
  {
   "cell_type": "code",
   "execution_count": 95,
   "metadata": {},
   "outputs": [],
   "source": [
    "# Import the required libraries\n",
    "import bs4\n",
    "import urllib3\n",
    "import csv\n",
    "urllib3.disable_warnings()\n",
    "http = urllib3.PoolManager()"
   ]
  },
  {
   "cell_type": "code",
   "execution_count": 96,
   "metadata": {},
   "outputs": [],
   "source": [
    "from selenium import webdriver \n",
    "import pandas as pd"
   ]
  },
  {
   "cell_type": "code",
   "execution_count": null,
   "metadata": {},
   "outputs": [],
   "source": [
    "option = webdriver.ChromeOptions()\n",
    "option.add_argument(\"—incognito\")\n",
    "browser = webdriver.Chrome(executable_path='chromedriver', options=option)"
   ]
  },
  {
   "cell_type": "code",
   "execution_count": 97,
   "metadata": {},
   "outputs": [],
   "source": [
    "# All Resumes of given skill\n",
    "def get_Resumes(jobs_list):    \n",
    "    one_job_list = []\n",
    "    for x in jobs_list:\n",
    "        r = http.request('GET', base_url)\n",
    "        source = r.data\n",
    "        if(r.status==200):\n",
    "            soup = bs4.BeautifulSoup(source, \"lxml\")\n",
    "            job_description = [link for link in soup.findAll('div',{\"class\": \"jobsearch-JobComponent-description\"}) ]\n",
    "            one_job_list.append(job_description)\n",
    "    return one_job_list"
   ]
  },
  {
   "cell_type": "code",
   "execution_count": 98,
   "metadata": {},
   "outputs": [],
   "source": [
    "def url_query(job):\n",
    "    Url_List = []\n",
    "    job = job.strip().replace(\" \",\"+\")\n",
    "    base_url = 'https://www.indeed.co.in/jobs?l=India&q='\n",
    "    base_url = 'https://resumes.indeed.com/search?l=&searchFields=&q='\n",
    "    job_url_default = base_url+job\n",
    "    Url_List.append(job_url_default)\n",
    "    job_url_page = job_url_default+'&start='\n",
    "    for i in range(1,2):             \n",
    "        Url_List.append(job_url_page+str(50*i))\n",
    "    return Url_List"
   ]
  },
  {
   "cell_type": "code",
   "execution_count": 99,
   "metadata": {},
   "outputs": [],
   "source": [
    "def Resumesfrompage (page_url):\n",
    "    browser.get(page_url)\n",
    "    ids = browser.find_elements_by_class_name('rezemp-u-h4')\n",
    "    all_a = []\n",
    "    for i in ids:\n",
    "        try:\n",
    "            x = i.get_attribute('href')\n",
    "            all_a.append(x)\n",
    "        except:\n",
    "            pass\n",
    "    return all_a"
   ]
  },
  {
   "cell_type": "code",
   "execution_count": 208,
   "metadata": {},
   "outputs": [],
   "source": [
    "# Creating list of all resumes\n",
    "ResumeTypes = [\"Machine Learning\"\n",
    "               ,\"Artificial Intelligence\"\n",
    "               ,\"Deep Learning\"\n",
    "               ,\"Android Developement\"\n",
    "               ,\"Web Development\"\n",
    "               ,\"Database Management\"\n",
    "               ,\"Consultancy\"\n",
    "               ,\"Finance\"\n",
    "               ,\"Neural Network\"\n",
    "               ,\"Convolutions\"\n",
    "               ,\"Data Science\"\n",
    "               ,\"Business Analyst\"\n",
    "               ,\"IOT\"\n",
    "               ,\"Programming\"\n",
    "               ,\"Designing\"\n",
    "               ,\"Mechanical Engineering\"\n",
    "               ,\"Electrical Engineering\"\n",
    "               ,\"Civil Engineering\"\n",
    "               ,\"Chemical Engineering\"\n",
    "               ,\"Software Developer\"\n",
    "               ,\"Game Developer\"]"
   ]
  },
  {
   "cell_type": "code",
   "execution_count": 209,
   "metadata": {},
   "outputs": [
    {
     "ename": "NameError",
     "evalue": "name 'browser' is not defined",
     "output_type": "error",
     "traceback": [
      "\u001b[1;31m---------------------------------------------------------------------------\u001b[0m",
      "\u001b[1;31mNameError\u001b[0m                                 Traceback (most recent call last)",
      "\u001b[1;32m<ipython-input-209-333136368697>\u001b[0m in \u001b[0;36m<module>\u001b[1;34m\u001b[0m\n\u001b[0;32m      8\u001b[0m     \u001b[0mresume_list\u001b[0m \u001b[1;33m=\u001b[0m \u001b[1;33m[\u001b[0m\u001b[1;33m]\u001b[0m\u001b[1;33m\u001b[0m\u001b[1;33m\u001b[0m\u001b[0m\n\u001b[0;32m      9\u001b[0m     \u001b[1;32mfor\u001b[0m \u001b[0murl\u001b[0m \u001b[1;32min\u001b[0m \u001b[0mall_pages_url\u001b[0m\u001b[1;33m:\u001b[0m\u001b[1;33m\u001b[0m\u001b[1;33m\u001b[0m\u001b[0m\n\u001b[1;32m---> 10\u001b[1;33m         \u001b[0mx\u001b[0m \u001b[1;33m=\u001b[0m \u001b[0mResumesfrompage\u001b[0m\u001b[1;33m(\u001b[0m\u001b[0murl\u001b[0m\u001b[1;33m)\u001b[0m   \u001b[1;31m# list of all resumes from that url\u001b[0m\u001b[1;33m\u001b[0m\u001b[1;33m\u001b[0m\u001b[0m\n\u001b[0m\u001b[0;32m     11\u001b[0m         \u001b[0mresume_list\u001b[0m \u001b[1;33m=\u001b[0m \u001b[0mresume_list\u001b[0m\u001b[1;33m+\u001b[0m\u001b[0mx\u001b[0m\u001b[1;33m\u001b[0m\u001b[1;33m\u001b[0m\u001b[0m\n\u001b[0;32m     12\u001b[0m     \u001b[0mprint\u001b[0m\u001b[1;33m(\u001b[0m\u001b[0mlen\u001b[0m\u001b[1;33m(\u001b[0m\u001b[0mresume_list\u001b[0m\u001b[1;33m)\u001b[0m\u001b[1;33m)\u001b[0m\u001b[1;33m\u001b[0m\u001b[1;33m\u001b[0m\u001b[0m\n",
      "\u001b[1;32m<ipython-input-99-28d4f12e9367>\u001b[0m in \u001b[0;36mResumesfrompage\u001b[1;34m(page_url)\u001b[0m\n\u001b[0;32m      1\u001b[0m \u001b[1;32mdef\u001b[0m \u001b[0mResumesfrompage\u001b[0m \u001b[1;33m(\u001b[0m\u001b[0mpage_url\u001b[0m\u001b[1;33m)\u001b[0m\u001b[1;33m:\u001b[0m\u001b[1;33m\u001b[0m\u001b[1;33m\u001b[0m\u001b[0m\n\u001b[1;32m----> 2\u001b[1;33m     \u001b[0mbrowser\u001b[0m\u001b[1;33m.\u001b[0m\u001b[0mget\u001b[0m\u001b[1;33m(\u001b[0m\u001b[0mpage_url\u001b[0m\u001b[1;33m)\u001b[0m\u001b[1;33m\u001b[0m\u001b[1;33m\u001b[0m\u001b[0m\n\u001b[0m\u001b[0;32m      3\u001b[0m     \u001b[0mids\u001b[0m \u001b[1;33m=\u001b[0m \u001b[0mbrowser\u001b[0m\u001b[1;33m.\u001b[0m\u001b[0mfind_elements_by_class_name\u001b[0m\u001b[1;33m(\u001b[0m\u001b[1;34m'rezemp-u-h4'\u001b[0m\u001b[1;33m)\u001b[0m\u001b[1;33m\u001b[0m\u001b[1;33m\u001b[0m\u001b[0m\n\u001b[0;32m      4\u001b[0m     \u001b[0mall_a\u001b[0m \u001b[1;33m=\u001b[0m \u001b[1;33m[\u001b[0m\u001b[1;33m]\u001b[0m\u001b[1;33m\u001b[0m\u001b[1;33m\u001b[0m\u001b[0m\n\u001b[0;32m      5\u001b[0m     \u001b[1;32mfor\u001b[0m \u001b[0mi\u001b[0m \u001b[1;32min\u001b[0m \u001b[0mids\u001b[0m\u001b[1;33m:\u001b[0m\u001b[1;33m\u001b[0m\u001b[1;33m\u001b[0m\u001b[0m\n",
      "\u001b[1;31mNameError\u001b[0m: name 'browser' is not defined"
     ]
    }
   ],
   "source": [
    "Total_Resume = 0\n",
    "All_Resume= {}\n",
    "for job in ResumeTypes:\n",
    "    ## Getting All Page Url to search for Resume\n",
    "    all_pages_url = url_query(job)\n",
    "    \n",
    "    ## Resume URL List Initialized \n",
    "    resume_list = []\n",
    "    for url in all_pages_url:\n",
    "        x = Resumesfrompage(url)   # list of all resumes from that url\n",
    "        resume_list = resume_list+x\n",
    "    print(len(resume_list))\n",
    "    \n",
    "    ## Get Resume\n",
    "    all_job_resumes = get_Resumes(resume_list)\n",
    "    All_Resume[job] = all_job_resumes\n",
    "    Total_Resume += len(all_job_resumes)\n",
    "    print(job+ \":- Total JDs = \"+str(len(all_job_resumes)))"
   ]
  },
  {
   "cell_type": "code",
   "execution_count": 210,
   "metadata": {},
   "outputs": [],
   "source": [
    "x = (\"Machine learning is an application of artificial intelligence (AI) that provides systems the ability to automatically learn and improve from experience without being explicitly programmed. Machine learning focuses on the development of computer programs that can access data and use it learn for themselves. The process of learning begins with observations or data, such as examples, direct experience, or instruction,\"\n",
    "     \"in order to look for patterns in data and make better decisions in the future based on the examples that we provide. The primary aim is to allow the computers learn automatically without human intervention or assistance and adjust actions accordingly. Some machine learning methods Machine learning algorithms are often categorized as supervised or unsupervised. Supervised machine learning algorithms can apply what ha\"\n",
    "     \"s been learned in the past to new data using labeled examples to predict future events. Starting from the analysis of a known training dataset, the learning algorithm produces an inferred function to make predictions about the output values. The system is able to provide targets for any new input after sufficient training. The learning algorithm can also compare its output with the correct, intended output and find \"\n",
    "     \"errors in order to modify the model accordingly. In contrast, unsupervised machine learning algorithms are used when the information used to train is neither classified nor labeled. Unsupervised learning studies how systems can infer a function to describe a hidden structure from unlabeled data. The system doesn’t figure out the right output, but it explores the data and can draw inferences from datasets to describe\"\n",
    "     \"hidden structures from unlabeled data. Semi-supervised machine learning algorithms fall somewhere in between supervised and unsupervised learning, since they use both labeled and unlabeled data for training – typically a small amount of labeled data and a large amount of unlabeled data. The systems that use this method are able to considerably improve learning accuracy. Usually, semi-supervised learning is chosen when\"\n",
    "     \" the acquired labeled data requires skilled and relevant resources in order to train it / learn from it. Otherwise, acquiringunlabeled data generally doesn’t require additional resources. Reinforcement machine learning algorithms is a learning method that interacts with its environment by producing actions and discovers errors or rewards. Trial and error search and delayed reward are the most relevant characteristics of\"\n",
    "     \"reinforcement learning. This method allows machines and software agents to automatically determine the ideal behavior within a specific context in order to maximize its performance. Simple reward feedback is required for the agent to learn which action is best; this is known as the reinforcement signal.\"\n",
    "     \"Machine learning enables analysis of massive quantities of data. While it generally delivers faster, more accurate results in order to identify profitable opportunities or dangerous risks, it may also require additional time and resources to train it properly. Combining machine learning with AI and cognitive technologies can make it even more effective in processing large volumes of information.\")\n",
    "y = (\"Machine learning Vaniyambadi, Tamil Nadu Secure a responsible career opportunity to fully utilize my training and skills, while making a significant contribution to the success of the company\"\n",
    "     \"Work Experience Machine learning traing Present first position Education BCA in art Concordia Higher Secondary School Vaniyambadi, Tamil Nadu 2016 to 2019 S.S.L.C in State Board Concordia Higher Secondary School Vaniyambadi, Tamil Nadu\"\n",
    "     \"2014 Skills C++ (Less than 1 year), CSS (Less than 1 year), HTML (Less than 1 year), JAVA (Less than 1 year), JAVASCRIPT (Less than 1 year) Additional Information Technical Skill • Hardware And Networking • Typing Lower • C, C++, JAVA, VISUAL PROGRAMMING, JAVASCRIPT, HTML, CSS\"\n",
    "     \"• OS-LINUX BASIC OPERTORS\")\n",
    "All_Resume['Machine Learning'] = [x,y]\n",
    "All_Resume['Deep Learning'] = [x,y]\n",
    "Total_Resume = 4"
   ]
  },
  {
   "cell_type": "code",
   "execution_count": 211,
   "metadata": {},
   "outputs": [],
   "source": [
    "def termFrequency (skill, skill_resume):\n",
    "    i = 0.0;\n",
    "    for c in skill_resume:\n",
    "        cmt = c.count(skill)\n",
    "        if(cmt>0):\n",
    "            i+=1.0\n",
    "    total_resume = len(skill_resume)\n",
    "    try:\n",
    "        termFrequency = i/total_resume\n",
    "    except:\n",
    "        termFrequency = 0\n",
    "    return termFrequency"
   ]
  },
  {
   "cell_type": "code",
   "execution_count": 212,
   "metadata": {},
   "outputs": [],
   "source": [
    "def SkillCountInSkill(job, job_resumes):\n",
    "    count = 0\n",
    "    for x in job_resumes:\n",
    "        if(x.count(job)>0):\n",
    "            count+=1\n",
    "    return count"
   ]
  },
  {
   "cell_type": "code",
   "execution_count": 213,
   "metadata": {},
   "outputs": [],
   "source": [
    "def idf (job, all_resumes):\n",
    "    N = Total_Resume\n",
    "    nw = 1\n",
    "    for skill_resume in all_resumes:\n",
    "        nw += SkillCountInSkill(job,skill_resume)\n",
    "    idf = math.log(N/nw)\n",
    "    return idf"
   ]
  },
  {
   "cell_type": "code",
   "execution_count": 214,
   "metadata": {},
   "outputs": [],
   "source": [
    "## Calculates P(i/j)\n",
    "def relevance(i,j):\n",
    "    return idf(i,All_Resume)*termFrequency(i,All_Resume[j])"
   ]
  },
  {
   "cell_type": "code",
   "execution_count": 215,
   "metadata": {},
   "outputs": [],
   "source": [
    "removewords = ['an','being','they','from','the', 'to', 'and','in', 'is', 'of', 'it', 'a','with','without','within','what','when','while','also']\n",
    "def RefineText(x):\n",
    "    words = re.findall(r\"[\\w']+\",x)\n",
    "    resultwords  = [word for word in words if word.lower() not in removewords]\n",
    "    text = ' '.join(resultwords)\n",
    "    return text\n",
    "def RefineArrayResume(y):\n",
    "    return [RefineText(t) for t in y]"
   ]
  },
  {
   "cell_type": "code",
   "execution_count": 216,
   "metadata": {},
   "outputs": [],
   "source": [
    "for x in All_Resume:\n",
    "    All_Resume[x] = RefineArrayResume(All_Resume[x])"
   ]
  },
  {
   "cell_type": "code",
   "execution_count": null,
   "metadata": {},
   "outputs": [],
   "source": [
    "## find relevence of a page on the basis of query \n",
    "Probabilty_Matrix = []\n",
    "for j in ResumeTypes:\n",
    "    y = [relevance(i,j) for i in ResumeTypes]\n",
    "    Probabilty_Matrix.append(y)"
   ]
  },
  {
   "cell_type": "code",
   "execution_count": null,
   "metadata": {},
   "outputs": [],
   "source": [
    "def TermFrequencyJD(x,text):\n",
    "    res = text.count(x.lower())\n",
    "    z = len(x)\n",
    "    y = len(text.split(' ')) - z*res +1\n",
    "    return res/y"
   ]
  },
  {
   "cell_type": "code",
   "execution_count": 250,
   "metadata": {},
   "outputs": [],
   "source": [
    "def SkillMatrix(text):\n",
    "    SkillMatrix_JD = [TermFrequencyJD(x,text) for x in ResumeTypes]\n",
    "def BoolSkillMatrix(text):\n",
    "    SkillMatrix_JD = [TermFrequencyJD(x,text) for x in ResumeTypes]\n",
    "    BoolSkillMatrixJD = [(1 if x>0.0 else 0) for x in SkillMatrix_JD]\n",
    "    return BoolSkillMatrixJD"
   ]
  },
  {
   "cell_type": "code",
   "execution_count": null,
   "metadata": {},
   "outputs": [],
   "source": [
    "JD = (\"Deep Learning Engineer Deep Learning Engineer Bengaluru, Karnataka To gain employment with a company that offers me consistently positive atmosphere to learn new technologies and implement them for the betterment of the business.\"\n",
    "     \"Work Experience Deep Learning Engineer DronaMaps Pvt Ltd June 2018 to May 2019 Gurugram Currently, I am working on aerial images which are taken from drones for processing those images in useful result by applying deep learning and image processing techniques.\"\n",
    "     \"Industrial Projects • Building footprint detection from aerial images of drone - Use CNN (U-NET) to apply semantic segmentation on aerial images to find the footprint of building. • Road detection from aerial images of drone - Use CNN (U-NET) to apply semantic \"\n",
    "     \"gmentation on aerial images to find the road. • Building type classification from aerial images of drone - Classify building in four different class in aerial drone images using CNN (Dense Net) • Crop classification based on drone aerial images - To classify crops\"\n",
    "     \"drone aerial images using CNN • Plant stress detection - Apply Kernel method on aerial images for identification of plant stress. - Use Neural Network for finding plant stress from aerial image Capturing from drone and creating dataset. • Plant population count\"\n",
    "     \"ed Convolutions Neural Network (CNN) to counting plant from aerial images of drone. • Depth estimation from RGB images using Deep Learning for Indoor Mapping - RGBD Salient Object Detection data set used to train CNN model for esti- mation depth map of RGB images.\"\n",
    "     \"Aerial image classification   Data set is created in hdf5 format, which contains usable images and un- usable images for data processing. CNN is used for classify usable images • 3D Reconstruction using Aerial Drone Images - Data acquisition using drone and process \"\n",
    "     \"on Open Drone Maps. • Point Cloud Classification - In the process of 3D reconstruction point cloud is generated. Deep Learning model (Point-Net) is used on point cloud for point cloud classification. NEURAL (Less than 1 year), NEURAL NETWORK (Less than 1 year), \"\n",
    "     \"DEEP LEARNING ss than 1 year), ESTIMATION (Less than 1 year), SEGMENTATION (Less than 1 year) https://github.com/Shahzadnit Additional Information Technical Proficiency Computer Vision: Classification, Regression, Semantic Segmentation, Depth estimation \"\n",
    "     \"ep Learning Convolutional Neural Network, Auto-encoder, GAN Machine Learning Neural Network, SVM Mathematics Optimization, Backpropogation of Neural Network General Programming C, C++, Python, OpenCV-python, PyTorch, MATLAB, LaTeX\")\n",
    "JD = RefineText(JD).lower()"
   ]
  },
  {
   "cell_type": "code",
   "execution_count": 219,
   "metadata": {},
   "outputs": [],
   "source": [
    "## Finding The User Skill Matrix"
   ]
  },
  {
   "cell_type": "code",
   "execution_count": null,
   "metadata": {},
   "outputs": [],
   "source": [
    "BoolSkillMatrixUSer = BoolSkillMatrix(JD)\n",
    "N = len(BoolSkillMatrixUser)\n",
    "UserSkillMatrix = [0]*N\n",
    "for i in range(0,N):\n",
    "    UserSkillMatrix[i] = 0.0\n",
    "    for j in range(0,N):\n",
    "        if(UserSkillMatrix[i]<Probabilty_Matrix[i][j]):\n",
    "            UserSkillMatrix[i] = Probabilty_Matrix[i][j] "
   ]
  },
  {
   "cell_type": "code",
   "execution_count": 220,
   "metadata": {},
   "outputs": [],
   "source": [
    "UserSkillMatrix = [random.random() for x in BoolSkillMatrixJD]"
   ]
  },
  {
   "cell_type": "code",
   "execution_count": 221,
   "metadata": {},
   "outputs": [],
   "source": [
    "## Finding the Job Description Skill Matrix"
   ]
  },
  {
   "cell_type": "code",
   "execution_count": 248,
   "metadata": {},
   "outputs": [
    {
     "name": "stdout",
     "output_type": "stream",
     "text": [
      "0.6059749142605603\n"
     ]
    }
   ],
   "source": [
    "SkillMatrix_JD = [TermFrequencyJD(x,JD) for x in ResumeTypes]\n",
    "BoolSkillMatrixJD = [(1 if x>0.0 else 0) for x in SkillMatrix_JD]\n",
    "length = len(BoolSkillMatrixJD)\n",
    "UserSkillMatrix = [random.random() for x in BoolSkillMatrixJD]\n",
    "RelevenceOfUserSkill = [0]*length\n",
    "for i in range(0,length):\n",
    "    RelevenceOfUserSkill[i] = BoolSkillMatrixJD[i]*UserSkillMatrix[i]\n",
    "Similarity = [0]*length\n",
    "for i in range(0,length):\n",
    "    Similarity[i] = RelevenceOfUserSkill[i]*SkillMatrix_JD[i]\n",
    "RelevenceOfUserSkill = [x*x for x in RelevenceOfUserSkill]\n",
    "SkillMatrix_JD = [x*x for x in SkillMatrix_JD]\n",
    "answer = sum(Similarity)/math.sqrt(sum(RelevenceOfUserSkill)*sum(SkillMatrix_JD))\n",
    "print(answer)"
   ]
  },
  {
   "cell_type": "code",
   "execution_count": null,
   "metadata": {},
   "outputs": [],
   "source": [
    "## Finding Similarity Score between User Skill Matrix and Job Description Skill Matrix"
   ]
  },
  {
   "cell_type": "code",
   "execution_count": 252,
   "metadata": {},
   "outputs": [
    {
     "name": "stdout",
     "output_type": "stream",
     "text": [
      "0.5040805414483432\n"
     ]
    }
   ],
   "source": [
    "N = len(ResumeTypes)\n",
    "RelevenceOfUserSkill = [0]*N\n",
    "for i in range(0,N):\n",
    "    RelevenceOfUserSkill[i] = BoolSkillMatrixJD[i]*UserSkillMatrix[i]\n",
    "Similarity = [0]*N\n",
    "for i in range(0,N):\n",
    "    Similarity[i] = RelevenceOfUserSkill[i]*SkillMatrix_JD[i]\n",
    "RelevenceOfUserSkill = [x*x for x in RelevenceOfUserSkill]\n",
    "SkillMatrix_JD = [x*x for x in SkillMatrix_JD]\n",
    "answer = sum(Similarity)/math.sqrt(sum(RelevenceOfUserSkill)*sum(SkillMatrix_JD))\n",
    "print(answer)"
   ]
  },
  {
   "cell_type": "code",
   "execution_count": null,
   "metadata": {},
   "outputs": [],
   "source": []
  }
 ],
 "metadata": {
  "kernelspec": {
   "display_name": "Python 3",
   "language": "python",
   "name": "python3"
  },
  "language_info": {
   "codemirror_mode": {
    "name": "ipython",
    "version": 3
   },
   "file_extension": ".py",
   "mimetype": "text/x-python",
   "name": "python",
   "nbconvert_exporter": "python",
   "pygments_lexer": "ipython3",
   "version": "3.7.1"
  }
 },
 "nbformat": 4,
 "nbformat_minor": 2
}
