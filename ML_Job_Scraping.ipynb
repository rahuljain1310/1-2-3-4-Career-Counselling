{
 "cells": [
  {
   "cell_type": "code",
   "execution_count": 2,
   "metadata": {},
   "outputs": [],
   "source": [
    "# Import the required libraries\n",
    "import bs4\n",
    "import urllib3\n",
    "urllib3.disable_warnings()\n",
    "import pandas as pd\n",
    "import math\n",
    "import time\n",
    "from pandas import DataFrame, Series\n",
    "import matplotlib\n",
    "%matplotlib inline"
   ]
  },
  {
   "cell_type": "markdown",
   "metadata": {},
   "source": [
    "Read the page at the specified URL:"
   ]
  },
  {
   "cell_type": "code",
   "execution_count": 23,
   "metadata": {},
   "outputs": [
    {
     "data": {
      "text/plain": [
       "200"
      ]
     },
     "execution_count": 23,
     "metadata": {},
     "output_type": "execute_result"
    }
   ],
   "source": [
    "# Base URL \n",
    "base_url = 'https://www.indeed.co.in/jobs?q=machine+learning&l=India'\n",
    "# source = urllib3.urlopen(base_url).read()\n",
    "http = urllib3.PoolManager()\n",
    "r = http.request('GET', base_url)\n",
    "source = r.data\n",
    "r.status"
   ]
  },
  {
   "cell_type": "markdown",
   "metadata": {},
   "source": [
    "Create a soup object with 'lxml' as the parser. <br>\n",
    "If the command below gives an error, try installing the following using command line: \n",
    "<br><code>sudo apt-get install libxslt1-dev libxml2</code>"
   ]
  },
  {
   "cell_type": "code",
   "execution_count": 31,
   "metadata": {},
   "outputs": [
    {
     "name": "stdout",
     "output_type": "stream",
     "text": [
      "15\n"
     ]
    },
    {
     "data": {
      "text/plain": [
       "['/pagead/clk?mo=r&ad=-6NYlbfkN0CFotBREMkwzpv5GzqlZEYks0e7kwBicfqamSOrLZoZNhRqN8LBQPfZFXm8RIpMGm1GSoolsbOAVB_u8DRAqe5ULLoINRuAUElWIqbbHsLjwpgIZKRluHFwO2w5ZU_bgDo0EabRBUnRZMArYLlAuZGaCADII3xCcRBQksMmZHceEWXieJZd5fVsIrRDsMoUCpIy7qb6Qjix3DEcALMPBS-ejEX6Q1fRjWg7q1mYji37zxoyaC-KVm3AyVwp0uUpxdGOjT1NI2XdJS3jNQubbm-uk_durWr5B-4rbdKXMZoaTYvOCKElpylw3v6E_0rhgjmczP_cLwc0jYhEp4EZEgSlZNBiA8-TIBNZ0Pv5vpVAvD5Lgwt-bBKgDJQ7fEqtuMJLEa0XqqVPEXdopnnwy-9wGVSZT8EsZsE-xETuGjlITmDQjfoTrVMmDIiOW3UvryV2Bsq2l4i-1-57bK8PJ7BEk8JzNfEit6gxozqrMai6P86QS7bdjzMAfemiGuHRYVkk3qAYCoMt0FFiwjU2XbWLjueguHQP23VV3-OO05DaJUYGCoooFyqt9LZEms6HHkejUU3ORLAo2qIWnN-LZldSpuuvU5TTi70ynWudFIF_AMHjRL-Je49zFIUnkvquBdFO1_GQY62qlpwH_Hr4DJGcSzFN8KOpGR5Xwaymlnaxb0bKhTqAgxPlcxjhOVaIJ6YF4R1RQdo2Wc3CUE3hLpfBDqv8b_q260G0OLKsMHDK98cbpElHxDvJIpgaDh4zB2gbkVapCK8LS1o0spRP4Qqn&vjs=3&p=1&sk=&fvj=0',\n",
       " '/pagead/clk?mo=r&ad=-6NYlbfkN0DwHiaQCC4acpqNPMVQJd7-F2pMLl7xxcLWIlnpKaFUrRaxy1Jyyr6wu2pVwtXlkYhFIklOtFeSDYfVCg04zytJh68Fq5PSh8MQcol4VmG11jQIPxY8x2gWSlEaqspIohj9uJQeMvr0aDehzJYqe65dpFZKKhoIUOHPx74Mf5ZYTTfg0UrYhVGJZAT2dYdob-Am4SAiSZf0_koVbvZCUjrBBI-iMJws5M9MM9RkXVoOl7il1cmx83mpIY6OOJKYotcai1ee91pfxIZpbea0XVe5gyI31PPzDLho0fzY2YRv1SSWTwwcrT6yxrG5-yZ6WqjWwrWWHNsiXKKSKVHEDHh9uVYaQIYcUvPwHvLKeW9U8l5fuaA-zEFo5xY0EEvVGJyr6kgoe9dtKYns_002KISJ2WgUm_oDmp2E-Gw5UJSbUxa4wp2QnqcsEnqLzbeyp59Sx1RNSJaXCuKbGlC04xUILere_mKA-h89-9PvCkiGBA==&vjs=3&p=2&sk=&fvj=1',\n",
       " '/pagead/clk?mo=r&ad=-6NYlbfkN0CFotBREMkwzpv5GzqlZEYks0e7kwBicfqamSOrLZoZNhRqN8LBQPfZFXm8RIpMGm0jh2iuPRCk_YPdN7v-B3PFCmYly0SEaRcRNYgaMwxzD37VFiuAiL2DijNUolr73rZIaQ-OY5FX2qCD-9NzT4B8WpG3S3aDGgszZPr8_BjoajKam5loUsr7ZHI4o49m1UWJ2ytEy7CLA3Tzl8Pfzlw8dpvmSB5OHiGK_UdvnAuZ4QDfoG8uGzo40BVTOp4Mp3jcwIQQkMJvcS6PFdI5w2mn5_KXnl154uDDtAinUIFFEdqm5DEIZMiWN8MQcTFfE-59e1Zk8eb_A_3K-VCBRNBmJJCtO79UyO1mNNVOaQDwhK82Rm4a2u4nXPN6vDLcatmov8AMAdBFS3bI7XXQQY0ynFU7wn_34GwGrdJnVt5F_19B4m13bpAnBPk0Mg8SjSvMkj7XVGzxHFvdI17bpAqZSvC6OZEdlNukYWZygdcvnqahM8AwY5f3Ws4slrJK75bBwOmRA62spDmFoDeTVkv06qbTcKgr5nzHkjSYHtaAuIPa7bbon2aOAxOVOb6DMhqRfr9T4IimroO-oYscL0p8SPJNUpHbI44B0lweLRR4IfKz1pA69SLuRdzO2ltet6h7g0bLidbog8Ii0FuFo78hdIXVTdoH6k35R02b-JYD3J_TyeKJzfiR7mPCcwVRs2-azXUYmoIgC746wG5tj5pHANesF4mIgao=&vjs=3&p=3&sk=&fvj=0',\n",
       " '/pagead/clk?mo=r&ad=-6NYlbfkN0CAiqmDdKoqK5VfPo1bDt_SaIZsrFHZ5CNMhJZVDT7oOwdX9nbdlNgTGag8fcOA4JDRmTgeBkuJr01DIsHfVrK70JG-Cb5yTyiKTWN2X7AcCy0MvWSxJZF6ILOG95TDyKEQ92g2J0h7TNiCKkyvbv_vp09lfUeHTka4yvAt8ieNc4RUx-Z_IfIbUKceI9854xwRlT6W3WiDSzZxLv-3ok39TzIhrE6ePYEcel4HU9KBG-wKLSoiKLfxUjkfDCUDUwLOFFoHS6qyhB5EIkZJNPo3YfFg1Bt_6PpCs3tCFpwtgILJrncLMCMFgyaaYPShMiM0X5cCVzBgtIptxEvks_yHQKKDyzWfyveA-7fPHoPzhreGX_yGyXV9xGV4twIL9FEI0OPTR3-vwrAeu6KExxIB44e2V5Ag7Z36lJiDduRHvHT0uXNWvrY9piU0s-oyqhh4TBgih8BozhKAJXoElxA6Ic23skcZEmgvskFU2IkjkDPCKZ_Rm2kv3Kk4KlH5sn0yyQLWAL7S3jfXqt4So4Aa0QWGSu8EHsjtXWB2baLWvN7-zn5dMu-fPfodENxjURHYPfUONRBJrZEbE290HAQQnm6rSk5cVFon8iGDDna0NUxlDSUGA96SKi1HvPLRNQNTJtJb38j-LVjBLXlixDTVWpu-hQ5ZGvlKEkLhdjTTKNn_BwCrkB-siT4f4o1lhKLfpiEZaYud0j0_5rZIVNVKVEx14f_GTUNVfQWNm1Ebs1AN5UvdYSyZVBNZRTCfON27rPESqY_7KU9Bg23q33aywebEgMQk_t-xBodQTm9zImhLWTOQVA9zTRrGcVX5YN4MYf792NS88xaWwu9grcjqrykGlty0uv6s7-ghuUuqiA5B7G_HvVNo9RUMM9au4Qi3GoJynG95whN3C1_aslOpVlqLtBIjdTPn_u8Aw3dBFqbIAQA95OaSamkYuVFXAIhKnzDGDoUznpCeNzRa-6Wl8xdQuHaaBrXYEWxFPZcBxnXbGCp4VoE3TGqd_T840z0Yj97uSWdb9WbCBdFBp8t_KLfSiLpR6cg=&vjs=3&p=4&sk=&fvj=0',\n",
       " '/company/Think--i/jobs/Software-Intern-a6c979dc4967731f?fccid=ab054c1286f71635&vjs=3',\n",
       " '/company/Preminds-Solutions/jobs/Machine-Learning-Engineer-ae11e71e20dfb820?fccid=2010eab1e2bf591a&vjs=3',\n",
       " '/company/Aktivita-HR-Solutions-Pvt.-Ltd./jobs/Machine-Learning-Engineer-9c2f257fcd75f1cf?fccid=fe1b0312c229ee0d&vjs=3',\n",
       " '/company/c2digitran-technologies/jobs/Data-Scientist-bbcd9eb010351975?fccid=869e4b30a613a72a&vjs=3',\n",
       " '/company/Mebhineta/jobs/Data-Science-Intern-7531c498c0395528?fccid=f6373e0f342d8ea8&vjs=3',\n",
       " '/company/SAPster-IT-pvt-ltd/jobs/Data-Science-Intern-Trainee-9795794c5e1e0be3?fccid=a69c86a130202089&vjs=3',\n",
       " '/company/SAPster-It-Co.-india-pvt-ltd/jobs/Data-Science-Fresher-a7f040edffec7263?fccid=b4aeb6e2ee3ff5a7&vjs=3',\n",
       " '/rc/clk?jk=b0750e361ad4413e&fccid=deb234f9dd3edcea&vjs=3',\n",
       " '/rc/clk?jk=f9f6c87f9a80c9b8&fccid=9d5d14c72b1050cc&vjs=3',\n",
       " '/rc/clk?jk=a7a575ccb353340b&fccid=f2b657fd016db6a3&vjs=3',\n",
       " '/pagead/clk?mo=r&ad=-6NYlbfkN0B33zOFN8GLzgQsRxgvJtNYlcIUZ-r8_DOeeUSief12Q6iLjexpD4UGcGNRd-c-LnGI9wiHY8dJ3o6WkAVP0VSrADwriUAzhUpoOZWbmrS60qxsI6RmuXQmKKiCGIlnwmJPeM-NodCenjEXNK9z1X-0u7FLbt11qu45f7WgYGQAOI_t69AEDYdjKN-6EyPR_ubzsuPDlmYmYNhYRslqm6g3xllCgah4vFbJXpsI6ypCVn_ive4RayUusdVrl5S2KSyi-BumwgDP6ezr1CXAVKaEFEGEqIHVnJ4HTwpYGBURsWoNac12OfrHJoSAZSboHo5ucYoxC2GWwDExstWE-sOPIwVoqiO7gx4nQxvSelRPu3_x5XlWHAJzSafCc8_rgMBwg9qepO1iKkdUoRUsYtSs4eEtOwoMLooJSUT2deQhlLa2jrItDix-3bueBVTSUdV34ptpIU7QxFEXiKWFoXBh&vjs=3&p=5&sk=&fvj=0']"
      ]
     },
     "execution_count": 31,
     "metadata": {},
     "output_type": "execute_result"
    }
   ],
   "source": [
    "soup = bs4.BeautifulSoup(source, \"lxml\")\n",
    "all_div = [link for link in soup.findAll('div',{\"class\": \"jobsearch-SerpJobCard\"}) ]\n",
    "all_a = []\n",
    "print(len(all_div))\n",
    "for div in all_div:\n",
    "    a = [link.get('href') for link in div.findAll('a',{\"class\": \"turnstileLink\"})]\n",
    "    all_a.append(a[0])\n",
    "all_a"
   ]
  },
  {
   "cell_type": "code",
   "execution_count": 11,
   "metadata": {},
   "outputs": [
    {
     "data": {
      "text/plain": [
       "[<div class=\"jobsearch-JobComponent-description icl-u-xs-mt--md\"><p><b>Job Summary</b></p><p>As a core member of our Data Science team, the candidate will take the ownership of project(s) focusing on NER, Classification, data processing, supervised and unsupervised modeling techniques and analysis of large unstructured/textual data sets</p><p>With the focus on B2B Enterprise customers across sectors including Capital Markets, Insurance, Consulting &amp; Research etc, candidate must be agile and ready to embrace challenges in a fast-paced environment.</p><p><b>Responsibilities and Duties</b></p><ul><li>Design and develop algorithms and models for mission-critical machines, delivering high-accuracy and performance in data extraction</li><li>Contribute in all phases of the Product Development Lifecycle</li><li>Work closely with UI/UX, Architecture, DevOps and Testing teams, while continuing to focus on the customer and business value</li><li>Creating efficient solutions and methodologies to address the problems related to text mining and unstructured data</li><li>Optimize algorithms for maximum speed, performance and scalability</li></ul><p><b>Required Experience, Skills and Qualifications</b></p><ul><li>Excellent programming skills - (at least one of) Python/Java</li><li>Experience with ML tools and libraries such as Scikit-learn, R, Spark, TensorFlow</li><li>Strong background in learning algorithms (multi-class classifications, decision trees, support vector machines and deep learning)</li><li>Experience with Unix/Linux</li><li>A willingness to dive deep, experiment rapidly and get things done</li><li>BE/BTech/MTech or a related technical discipline from reputed universities</li><li>Attention to detail, data accuracy, and quality of output</li><li>Being passionate about creating great products and experiences for our customers</li><li>Strong analytical skills are necessary as the work involves projecting outcomes and isolating issues that need to be resolved to make programs more effective</li><li>Proficient communication skills – being able to express clearly and positively, both verbally and in writing</li><li>3+ years of experience applying machine learning and NLP to solving real-world problems</li><li>High levels of creativity and quick problem solving capabilities, a self-starter with goal-driven focus</li></ul><p><b>Benefits</b></p><p>Training &amp; Participation in Conferences, Mentoring, Health &amp; Accident Insurance</p><p>Job Type: Full-time</p><p>Salary: ₹400,000.00 to ₹7,000,000.00 /year</p><p>Experience:</p><ul><li>Machine Learning: 2 years (Required)</li><li>NLP: 2 years (Required)</li><li>work: 3 years (Required)</li></ul><p>Education:</p><ul><li>Bachelor's (Required)</li></ul><p>Location:</p><ul><li>Bengaluru, Karnataka (Preferred)</li></ul><p>Language:</p><ul><li>English (Required)</li></ul></div>]"
      ]
     },
     "execution_count": 11,
     "metadata": {},
     "output_type": "execute_result"
    }
   ],
   "source": []
  },
  {
   "cell_type": "markdown",
   "metadata": {},
   "source": [
    "Within each page, we now extract the urls that link to the corresponding job description: "
   ]
  },
  {
   "cell_type": "code",
   "execution_count": 42,
   "metadata": {},
   "outputs": [
    {
     "ename": "AttributeError",
     "evalue": "'list' object has no attribute 'findAll'",
     "output_type": "error",
     "traceback": [
      "\u001b[1;31m---------------------------------------------------------------------------\u001b[0m",
      "\u001b[1;31mAttributeError\u001b[0m                            Traceback (most recent call last)",
      "\u001b[1;32m<ipython-input-42-49923de472f8>\u001b[0m in \u001b[0;36m<module>\u001b[1;34m\u001b[0m\n\u001b[1;32m----> 1\u001b[1;33m \u001b[0mall_links\u001b[0m \u001b[1;33m=\u001b[0m \u001b[1;33m[\u001b[0m\u001b[0mlink\u001b[0m\u001b[1;33m.\u001b[0m\u001b[0mget\u001b[0m\u001b[1;33m(\u001b[0m\u001b[1;34m'href'\u001b[0m\u001b[1;33m)\u001b[0m \u001b[1;32mfor\u001b[0m \u001b[0mlink\u001b[0m \u001b[1;32min\u001b[0m \u001b[0mall_div\u001b[0m\u001b[1;33m.\u001b[0m\u001b[0mfindAll\u001b[0m\u001b[1;33m(\u001b[0m\u001b[1;34m'a'\u001b[0m\u001b[1;33m)\u001b[0m\u001b[1;33m]\u001b[0m\u001b[1;33m\u001b[0m\u001b[1;33m\u001b[0m\u001b[0m\n\u001b[0m\u001b[0;32m      2\u001b[0m \u001b[0mprint\u001b[0m\u001b[1;33m(\u001b[0m\u001b[1;34m\"Sample job description link:\"\u001b[0m\u001b[1;33m,\u001b[0m\u001b[0mall_links\u001b[0m\u001b[1;33m[\u001b[0m\u001b[1;36m0\u001b[0m\u001b[1;33m]\u001b[0m\u001b[1;33m)\u001b[0m\u001b[1;33m\u001b[0m\u001b[1;33m\u001b[0m\u001b[0m\n",
      "\u001b[1;31mAttributeError\u001b[0m: 'list' object has no attribute 'findAll'"
     ]
    }
   ],
   "source": [
    "all_links = [link.get('data_url') for link in soup.findAll('div') if 'job-listings' in  str(link.get('data_url'))]\n",
    "print(\"Sample job description link:\",all_links[0])"
   ]
  },
  {
   "cell_type": "code",
   "execution_count": null,
   "metadata": {},
   "outputs": [],
   "source": []
  },
  {
   "cell_type": "markdown",
   "metadata": {},
   "source": [
    "Next, we scrape the job description for a sample job page in the list obtained above:"
   ]
  },
  {
   "cell_type": "code",
   "execution_count": 24,
   "metadata": {
    "collapsed": true
   },
   "outputs": [],
   "source": [
    "jd_url = all_links[2]\n",
    "jd_source = urllib2.urlopen(jd_url).read()\n",
    "jd_soup = bs4.BeautifulSoup(jd_source,\"lxml\")"
   ]
  },
  {
   "cell_type": "markdown",
   "metadata": {},
   "source": [
    "Extract the individual job level attributes. The key here is to identify the correct tag and extract the text enclosed within those tags."
   ]
  },
  {
   "cell_type": "code",
   "execution_count": 25,
   "metadata": {},
   "outputs": [
    {
     "name": "stdout",
     "output_type": "stream",
     "text": [
      "Mumbai\n"
     ]
    }
   ],
   "source": [
    "# Job Location\n",
    "location = jd_soup.find(\"div\",{\"class\":\"loc\"}).getText().strip()\n",
    "print location"
   ]
  },
  {
   "cell_type": "code",
   "execution_count": 26,
   "metadata": {},
   "outputs": [
    {
     "name": "stdout",
     "output_type": "stream",
     "text": [
      "We are looking for a machine learning scientist who can use their skills to research, build and implement solutions in the field of natural language processing, automated answers, semantic knowledge extraction from structured data and unstructured text. You should have a deep love for Machine Learning, Natural Language processing and a strong desire to solve challenging problems.  Responsibilities :  - Using NLP and machine learning techniques to create scalable solutions.  - Researching and coming up with novel approaches to solve real world problems.  - Working closely with the engineering teams to drive real-time model implementations and new feature creations.\n"
     ]
    }
   ],
   "source": [
    "# Job Description\n",
    "jd_text = jd_soup.find(\"ul\",{\"itemprop\":\"description\"}).getText().strip()\n",
    "print jd_text"
   ]
  },
  {
   "cell_type": "code",
   "execution_count": 27,
   "metadata": {},
   "outputs": [
    {
     "name": "stdout",
     "output_type": "stream",
     "text": [
      "3 - 4 yrs\n"
     ]
    }
   ],
   "source": [
    "# Experience Level\n",
    "experience = jd_soup.find(\"span\",{\"itemprop\":\"experienceRequirements\"}).getText().strip()\n",
    "print experience"
   ]
  },
  {
   "cell_type": "code",
   "execution_count": 28,
   "metadata": {},
   "outputs": [
    {
     "name": "stdout",
     "output_type": "stream",
     "text": [
      "{'Salary': u'Not Disclosed by Recruiter', 'Functional Area': u'Analytics & Business Intelligence', 'Industry': u'IT-Software  /    Software Services', 'Role Category': u'Analytics & BI', 'Design Role': u'Data Analyst'}\n"
     ]
    }
   ],
   "source": [
    "# Role Level Information\n",
    "labels = ['Salary', 'Industry', 'Functional Area', 'Role Category', 'Design Role']\n",
    "role_info = [content.getText().split(':')[-1].strip() for content in jd_soup.find(\"div\",{\"class\":\"jDisc mt20\"}).contents \n",
    " if len(str(content).replace(' ',''))!=0]\n",
    "\n",
    "role_info_dict = {label: role_info for label, role_info in zip(labels, role_info)}\n",
    "print role_info_dict"
   ]
  },
  {
   "cell_type": "code",
   "execution_count": 29,
   "metadata": {},
   "outputs": [
    {
     "name": "stdout",
     "output_type": "stream",
     "text": [
      "Machine Learning|Natural Language Processing|NLP|Research|Statistical Models|Big data|Statistical Modeling \n"
     ]
    }
   ],
   "source": [
    "# Skills required\n",
    "key_skills = '|'.join(jd_soup.find(\"div\",{\"class\":\"ksTags\"}).getText().split('  '))[1:]\n",
    "print key_skills"
   ]
  },
  {
   "cell_type": "code",
   "execution_count": 30,
   "metadata": {},
   "outputs": [
    {
     "name": "stdout",
     "output_type": "stream",
     "text": [
      "{u'UG': u'Any Graduate - Any Specialization', u'Doctorate': u'Doctorate Not Required', 'PG': ''}\n"
     ]
    }
   ],
   "source": [
    "# Education Level\n",
    "edu_info = [content.getText().split(':') for content in jd_soup.find(\"div\",{\"itemprop\":\"educationRequirements\"}).contents \n",
    " if len(str(content).replace(' ',''))!=0]\n",
    "\n",
    "edu_info_dict = {label.strip(): edu_info.strip() for label, edu_info in edu_info}\n",
    "\n",
    "# Sometimes the education information for one of the degrees can be missing\n",
    "edu_labels = ['UG', 'PG', 'Doctorate']\n",
    "for l in edu_labels:\n",
    "    if l not in edu_info_dict.keys():\n",
    "        edu_info_dict[l] = ''\n",
    "print edu_info_dict"
   ]
  },
  {
   "cell_type": "code",
   "execution_count": 32,
   "metadata": {},
   "outputs": [
    {
     "name": "stdout",
     "output_type": "stream",
     "text": [
      "Premium-Jobs\n"
     ]
    }
   ],
   "source": [
    "# Company Info\n",
    "company_name = jd_soup.find(\"div\",{\"itemprop\":\"hiringOrganization\"}).contents[1].p.getText()\n",
    "print company_name"
   ]
  },
  {
   "cell_type": "markdown",
   "metadata": {},
   "source": [
    "Create a DF to store all the job level information:"
   ]
  },
  {
   "cell_type": "code",
   "execution_count": 101,
   "metadata": {},
   "outputs": [],
   "source": [
    "naukri_df = pd.DataFrame()\n",
    "column_names = ['Location', 'Link', 'Job Description', 'Experience','Salary', 'Industry', 'Functional Area', 'Role Category', \n",
    "                'Design Role', 'Skills','Company Name', \n",
    "                'UG','PG','Doctorate']"
   ]
  },
  {
   "cell_type": "code",
   "execution_count": 102,
   "metadata": {},
   "outputs": [
    {
     "data": {
      "text/plain": [
       "OrderedDict([('Skills',\n",
       "              u'Machine Learning|Natural Language Processing|NLP|Research|Statistical Models|Big data|Statistical Modeling '),\n",
       "             ('Experience', u'3 - 4 yrs'),\n",
       "             ('Job Description',\n",
       "              u'We are looking for a machine learning scientist who can use their skills to research, build and implement solutions in the field of natural language processing, automated answers, semantic knowledge extraction from structured data and unstructured text. You should have a deep love for Machine Learning, Natural Language processing and a strong desire to solve challenging problems.  Responsibilities :  - Using NLP and machine learning techniques to create scalable solutions.  - Researching and coming up with novel approaches to solve real world problems.  - Working closely with the engineering teams to drive real-time model implementations and new feature creations.'),\n",
       "             ('Link',\n",
       "              'https://www.naukri.com/job-listings-Machine-Learning-Scientist-Data-Science-Premium-Jobs-Mumbai-3-to-4-years-261116002864?src=jobsearchDesk&sid=14801799685391&xp=1'),\n",
       "             ('Location', u'Mumbai'),\n",
       "             ('Company Name', u'Premium-Jobs'),\n",
       "             ('Salary', u'Not Disclosed by Recruiter'),\n",
       "             ('Functional Area', u'Analytics & Business Intelligence'),\n",
       "             ('Industry', u'IT-Software  /    Software Services'),\n",
       "             ('Role Category', u'Analytics & BI'),\n",
       "             ('Design Role', u'Data Analyst'),\n",
       "             (u'UG', u'Any Graduate - Any Specialization'),\n",
       "             (u'Doctorate', u'Doctorate Not Required'),\n",
       "             ('PG', '')])"
      ]
     },
     "execution_count": 102,
     "metadata": {},
     "output_type": "execute_result"
    }
   ],
   "source": [
    "from collections import OrderedDict\n",
    "df_dict = OrderedDict({'Location':location, 'Link':all_links[0],'Job Description':jd_text,'Experience':experience,\n",
    "                       'Skills':key_skills,'Company Name':company_name})\n",
    "df_dict.update(role_info_dict)\n",
    "df_dict.update(edu_info_dict)\n",
    "df_dict"
   ]
  },
  {
   "cell_type": "code",
   "execution_count": 103,
   "metadata": {},
   "outputs": [
    {
     "data": {
      "text/html": [
       "<div>\n",
       "<table border=\"1\" class=\"dataframe\">\n",
       "  <thead>\n",
       "    <tr style=\"text-align: right;\">\n",
       "      <th></th>\n",
       "      <th>Company Name</th>\n",
       "      <th>Design Role</th>\n",
       "      <th>Doctorate</th>\n",
       "      <th>Experience</th>\n",
       "      <th>Functional Area</th>\n",
       "      <th>Industry</th>\n",
       "      <th>Job Description</th>\n",
       "      <th>Link</th>\n",
       "      <th>Location</th>\n",
       "      <th>PG</th>\n",
       "      <th>Role Category</th>\n",
       "      <th>Salary</th>\n",
       "      <th>Skills</th>\n",
       "      <th>UG</th>\n",
       "    </tr>\n",
       "  </thead>\n",
       "  <tbody>\n",
       "    <tr>\n",
       "      <th>0</th>\n",
       "      <td>Premium-Jobs</td>\n",
       "      <td>Data Analyst</td>\n",
       "      <td>Doctorate Not Required</td>\n",
       "      <td>3 - 4 yrs</td>\n",
       "      <td>Analytics &amp; Business Intelligence</td>\n",
       "      <td>IT-Software  /    Software Services</td>\n",
       "      <td>We are looking for a machine learning scientis...</td>\n",
       "      <td>https://www.naukri.com/job-listings-Machine-Le...</td>\n",
       "      <td>Mumbai</td>\n",
       "      <td></td>\n",
       "      <td>Analytics &amp; BI</td>\n",
       "      <td>Not Disclosed by Recruiter</td>\n",
       "      <td>Machine Learning|Natural Language Processing|N...</td>\n",
       "      <td>Any Graduate - Any Specialization</td>\n",
       "    </tr>\n",
       "  </tbody>\n",
       "</table>\n",
       "</div>"
      ],
      "text/plain": [
       "   Company Name   Design Role               Doctorate Experience  \\\n",
       "0  Premium-Jobs  Data Analyst  Doctorate Not Required  3 - 4 yrs   \n",
       "\n",
       "                     Functional Area                             Industry  \\\n",
       "0  Analytics & Business Intelligence  IT-Software  /    Software Services   \n",
       "\n",
       "                                     Job Description  \\\n",
       "0  We are looking for a machine learning scientis...   \n",
       "\n",
       "                                                Link Location PG  \\\n",
       "0  https://www.naukri.com/job-listings-Machine-Le...   Mumbai      \n",
       "\n",
       "    Role Category                      Salary  \\\n",
       "0  Analytics & BI  Not Disclosed by Recruiter   \n",
       "\n",
       "                                              Skills  \\\n",
       "0  Machine Learning|Natural Language Processing|N...   \n",
       "\n",
       "                                  UG  \n",
       "0  Any Graduate - Any Specialization  "
      ]
     },
     "execution_count": 103,
     "metadata": {},
     "output_type": "execute_result"
    }
   ],
   "source": [
    "naukri_df = naukri_df.append(df_dict,ignore_index=True)\n",
    "naukri_df"
   ]
  },
  {
   "cell_type": "code",
   "execution_count": 104,
   "metadata": {},
   "outputs": [
    {
     "data": {
      "text/html": [
       "<div>\n",
       "<table border=\"1\" class=\"dataframe\">\n",
       "  <thead>\n",
       "    <tr style=\"text-align: right;\">\n",
       "      <th></th>\n",
       "      <th>Location</th>\n",
       "      <th>Link</th>\n",
       "      <th>Job Description</th>\n",
       "      <th>Experience</th>\n",
       "      <th>Salary</th>\n",
       "      <th>Industry</th>\n",
       "      <th>Functional Area</th>\n",
       "      <th>Role Category</th>\n",
       "      <th>Design Role</th>\n",
       "      <th>Skills</th>\n",
       "      <th>Company Name</th>\n",
       "      <th>UG</th>\n",
       "      <th>PG</th>\n",
       "      <th>Doctorate</th>\n",
       "    </tr>\n",
       "  </thead>\n",
       "  <tbody>\n",
       "    <tr>\n",
       "      <th>0</th>\n",
       "      <td>Mumbai</td>\n",
       "      <td>https://www.naukri.com/job-listings-Machine-Le...</td>\n",
       "      <td>We are looking for a machine learning scientis...</td>\n",
       "      <td>3 - 4 yrs</td>\n",
       "      <td>Not Disclosed by Recruiter</td>\n",
       "      <td>IT-Software  /    Software Services</td>\n",
       "      <td>Analytics &amp; Business Intelligence</td>\n",
       "      <td>Analytics &amp; BI</td>\n",
       "      <td>Data Analyst</td>\n",
       "      <td>Machine Learning|Natural Language Processing|N...</td>\n",
       "      <td>Premium-Jobs</td>\n",
       "      <td>Any Graduate - Any Specialization</td>\n",
       "      <td></td>\n",
       "      <td>Doctorate Not Required</td>\n",
       "    </tr>\n",
       "  </tbody>\n",
       "</table>\n",
       "</div>"
      ],
      "text/plain": [
       "  Location                                               Link  \\\n",
       "0   Mumbai  https://www.naukri.com/job-listings-Machine-Le...   \n",
       "\n",
       "                                     Job Description Experience  \\\n",
       "0  We are looking for a machine learning scientis...  3 - 4 yrs   \n",
       "\n",
       "                       Salary                             Industry  \\\n",
       "0  Not Disclosed by Recruiter  IT-Software  /    Software Services   \n",
       "\n",
       "                     Functional Area   Role Category   Design Role  \\\n",
       "0  Analytics & Business Intelligence  Analytics & BI  Data Analyst   \n",
       "\n",
       "                                              Skills  Company Name  \\\n",
       "0  Machine Learning|Natural Language Processing|N...  Premium-Jobs   \n",
       "\n",
       "                                  UG PG               Doctorate  \n",
       "0  Any Graduate - Any Specialization     Doctorate Not Required  "
      ]
     },
     "execution_count": 104,
     "metadata": {},
     "output_type": "execute_result"
    }
   ],
   "source": [
    "# Reordering the columns to a preferred order as specified\n",
    "naukri_df = naukri_df.reindex(columns=column_names)\n",
    "naukri_df"
   ]
  },
  {
   "cell_type": "code",
   "execution_count": null,
   "metadata": {
    "collapsed": true
   },
   "outputs": [],
   "source": []
  },
  {
   "cell_type": "code",
   "execution_count": null,
   "metadata": {
    "collapsed": true
   },
   "outputs": [],
   "source": []
  },
  {
   "cell_type": "markdown",
   "metadata": {},
   "source": [
    "Next we put all of the above bits and pieces into 1 single function to extract info about all ML jobs on the site:"
   ]
  },
  {
   "cell_type": "markdown",
   "metadata": {},
   "source": [
    "Lets first check the total number of machine learning jobs posted on the site. This information is present within the tag on the top of the page: <code> div class=\"count\" </code>"
   ]
  },
  {
   "cell_type": "code",
   "execution_count": 33,
   "metadata": {},
   "outputs": [
    {
     "name": "stdout",
     "output_type": "stream",
     "text": [
      "1-50 of 2890\n"
     ]
    }
   ],
   "source": [
    "print soup.find(\"div\", { \"class\" : \"count\" }).h1.contents[1].getText()"
   ]
  },
  {
   "cell_type": "code",
   "execution_count": 34,
   "metadata": {},
   "outputs": [
    {
     "name": "stdout",
     "output_type": "stream",
     "text": [
      "2890\n"
     ]
    }
   ],
   "source": [
    "num_jobs = int(soup.find(\"div\", { \"class\" : \"count\" }).h1.contents[1].getText().split(' ')[-1])\n",
    "print num_jobs"
   ]
  },
  {
   "cell_type": "markdown",
   "metadata": {},
   "source": [
    "Each page has 50 job postings, which means that the total number of jobs can be calcuated as follows:"
   ]
  },
  {
   "cell_type": "code",
   "execution_count": 36,
   "metadata": {},
   "outputs": [
    {
     "name": "stdout",
     "output_type": "stream",
     "text": [
      "URL of the last page to be scraped: http://www.naukri.com/machine-learning-jobs-58\n"
     ]
    }
   ],
   "source": [
    "num_pages = int(math.ceil(num_jobs/50.0))\n",
    "print \"URL of the last page to be scraped:\", base_url + str(num_pages)"
   ]
  },
  {
   "cell_type": "code",
   "execution_count": null,
   "metadata": {
    "collapsed": true
   },
   "outputs": [],
   "source": [
    "# Together into one function\n",
    "import bs4\n",
    "import urllib2\n",
    "import pandas as pd\n",
    "import math\n",
    "import time\n",
    "from pandas import DataFrame\n",
    "from collections import OrderedDict\n",
    "import cPickle\n",
    "\n",
    "# Base URL \n",
    "base_url = 'http://www.naukri.com/machine-learning-jobs-'\n",
    "source = urllib2.urlopen(base_url).read()\n",
    "\n",
    "soup = bs4.BeautifulSoup(source, \"lxml\")\n",
    "num_jobs = int(soup.find(\"div\", { \"class\" : \"count\" }).h1.contents[1].getText().split(' ')[-1])\n",
    "num_pages = int(math.ceil(num_jobs/50.0))\n",
    "\n",
    "# Together into one function\n",
    "labels = ['Salary', 'Industry', 'Functional Area', 'Role Category', 'Design Role']\n",
    "edu_labels = ['UG', 'PG', 'Doctorate']\n",
    "naukri_df = pd.DataFrame()\n",
    "           \n",
    "for page in range(1,num_pages+1):\n",
    "    page_url = base_url+str(page)\n",
    "    source = urllib2.urlopen(page_url).read()\n",
    "    soup = bs4.BeautifulSoup(source,\"lxml\")\n",
    "    all_links = [link.get('href') for link in soup.findAll('a') if 'job-listings' in  str(link.get('href'))]\n",
    "    for url in all_links:\n",
    "        jd_source = urllib2.urlopen(url).read()\n",
    "        jd_soup = bs4.BeautifulSoup(jd_source,\"lxml\")\n",
    "        try:\n",
    "            jd_text = jd_soup.find(\"ul\",{\"itemprop\":\"description\"}).getText().strip()\n",
    "            location = jd_soup.find(\"div\",{\"class\":\"loc\"}).getText().strip()\n",
    "            experience = jd_soup.find(\"span\",{\"itemprop\":\"experienceRequirements\"}).getText().strip()\n",
    "            \n",
    "            role_info = [content.getText().split(':')[-1].strip() for content in jd_soup.find(\"div\",{\"class\":\"jDisc mt20\"}).contents if len(str(content).replace(' ',''))!=0]\n",
    "            role_info_dict = {label: role_info for label, role_info in zip(labels, role_info)}\n",
    "            \n",
    "            key_skills = '|'.join(jd_soup.find(\"div\",{\"class\":\"ksTags\"}).getText().split('  '))[1:]\n",
    "\n",
    "            edu_info = [content.getText().split(':') for content in jd_soup.find(\"div\",{\"itemprop\":\"educationRequirements\"}).contents if len(str(content).replace(' ',''))!=0]\n",
    "            edu_info_dict = {label.strip(): edu_info.strip() for label, edu_info in edu_info}\n",
    "            for l in edu_labels:\n",
    "                if l not in edu_info_dict.keys():\n",
    "                    edu_info_dict[l] = ''\n",
    "\n",
    "            company_name = jd_soup.find(\"div\",{\"itemprop\":\"hiringOrganization\"}).contents[1].p.getText().strip()\n",
    "        \n",
    "        except AttributeError:\n",
    "            continue\n",
    "        df_dict = OrderedDict({'Location':location, 'Link':url,'Job Description':jd_text,'Experience':experience,'Skills':key_skills,'Company Name':company_name})\n",
    "        df_dict.update(role_info_dict)\n",
    "        df_dict.update(edu_info_dict)\n",
    "        naukri_df = naukri_df.append(df_dict,ignore_index=True)\n",
    "        time.sleep(1)\n",
    "    print page\n",
    "    "
   ]
  },
  {
   "cell_type": "markdown",
   "metadata": {},
   "source": [
    "In order to work with this data at a later point in time, we could save it as a csv file. A better was to do this is to save the dataframe as a pickle object using cPickle library. By doing this we can store and retrieve the data as a Python object (i.e., Pandas dataframe). "
   ]
  },
  {
   "cell_type": "code",
   "execution_count": null,
   "metadata": {
    "collapsed": true
   },
   "outputs": [],
   "source": [
    "import cPickle\n",
    "column_names = ['Location', 'Link', 'Job Description', 'Experience','Salary', 'Industry', 'Functional Area', 'Role Category', \n",
    "                'Design Role', 'Skills', 'Company Name',\n",
    "                'UG','PG','Doctorate']\n",
    "\n",
    "naukri_df = naukri_df.reindex(columns=column_names)        \n",
    "with open('naukri_dataframe.pkl', 'wb') as f:\n",
    "    cPickle.dump(naukri_df, f)            "
   ]
  },
  {
   "cell_type": "code",
   "execution_count": 108,
   "metadata": {
    "collapsed": true
   },
   "outputs": [],
   "source": [
    "with open('naukri_dataframe.pkl', 'r') as f:\n",
    "    naukri_df = cPickle.load(f) "
   ]
  },
  {
   "cell_type": "markdown",
   "metadata": {},
   "source": [
    "Ideally we were supposed to have 2890 ML job postings. However, as shown below, we could only retrieve 1627 of them. The reason the remaining pages had to be skipped was that they would have a different HTML structure than the standard one on the website (the one which we had specified to extract the attributes). This is one of the disadvantages of scraping the web by parsing the elements of an HTML tree. Even if any one of the tag that we specified did not exist this would be noted as exception and we skip to the next iteration."
   ]
  },
  {
   "cell_type": "code",
   "execution_count": 117,
   "metadata": {},
   "outputs": [
    {
     "data": {
      "text/plain": [
       "(1627, 14)"
      ]
     },
     "execution_count": 117,
     "metadata": {},
     "output_type": "execute_result"
    }
   ],
   "source": [
    "naukri_df.shape"
   ]
  },
  {
   "cell_type": "code",
   "execution_count": 118,
   "metadata": {},
   "outputs": [
    {
     "data": {
      "text/html": [
       "<div>\n",
       "<table border=\"1\" class=\"dataframe\">\n",
       "  <thead>\n",
       "    <tr style=\"text-align: right;\">\n",
       "      <th></th>\n",
       "      <th>Location</th>\n",
       "      <th>Link</th>\n",
       "      <th>Job Description</th>\n",
       "      <th>Experience</th>\n",
       "      <th>Salary</th>\n",
       "      <th>Industry</th>\n",
       "      <th>Functional Area</th>\n",
       "      <th>Role Category</th>\n",
       "      <th>Design Role</th>\n",
       "      <th>Skills</th>\n",
       "      <th>Company Name</th>\n",
       "      <th>UG</th>\n",
       "      <th>PG</th>\n",
       "      <th>Doctorate</th>\n",
       "    </tr>\n",
       "  </thead>\n",
       "  <tbody>\n",
       "    <tr>\n",
       "      <th>0</th>\n",
       "      <td>Mumbai</td>\n",
       "      <td>https://www.naukri.com/job-listings-Machine-Le...</td>\n",
       "      <td>We are looking for a machine learning scientis...</td>\n",
       "      <td>3 - 4 yrs</td>\n",
       "      <td>Not Disclosed by Recruiter</td>\n",
       "      <td>IT-Software  /    Software Services</td>\n",
       "      <td>Analytics &amp; Business Intelligence</td>\n",
       "      <td>Analytics &amp; BI</td>\n",
       "      <td>Data Analyst</td>\n",
       "      <td>Machine Learning|Natural Language Processing|N...</td>\n",
       "      <td>Premium-Jobs</td>\n",
       "      <td>Any Graduate - Any Specialization</td>\n",
       "      <td></td>\n",
       "      <td>Doctorate Not Required</td>\n",
       "    </tr>\n",
       "    <tr>\n",
       "      <th>1</th>\n",
       "      <td>Bengaluru</td>\n",
       "      <td>https://www.naukri.com/job-listings-Machine-Le...</td>\n",
       "      <td>Research &amp; Development (R&amp;D) Engineer  Job des...</td>\n",
       "      <td>2 - 5 yrs</td>\n",
       "      <td>INR  10,00,000 - 15,00,000 P.A</td>\n",
       "      <td>IT-Software  /    Software Services</td>\n",
       "      <td>IT Software - Application Programming   ,     ...</td>\n",
       "      <td>Programming &amp; Design</td>\n",
       "      <td>Software Developer</td>\n",
       "      <td>Algorithms|Machine Learning|Python|Artificial ...</td>\n",
       "      <td>IPsoft Global Services Private Limited</td>\n",
       "      <td>B.Tech/B.E. - Computers</td>\n",
       "      <td></td>\n",
       "      <td></td>\n",
       "    </tr>\n",
       "    <tr>\n",
       "      <th>2</th>\n",
       "      <td>Bengaluru</td>\n",
       "      <td>https://www.naukri.com/job-listings-Software-E...</td>\n",
       "      <td>Work in cohesion with the R&amp;D team towards bui...</td>\n",
       "      <td>1 - 5 yrs</td>\n",
       "      <td>Not Disclosed by Recruiter</td>\n",
       "      <td>IT-Software  /    Software Services</td>\n",
       "      <td>IT Software - DBA   ,     Datawarehousing</td>\n",
       "      <td>Programming &amp; Design</td>\n",
       "      <td>Software Developer</td>\n",
       "      <td>R|D|Machine Learning|NLP|Software Engineering|...</td>\n",
       "      <td>Premium-Jobs</td>\n",
       "      <td>Any Graduate - Any Specialization</td>\n",
       "      <td></td>\n",
       "      <td>Doctorate Not Required</td>\n",
       "    </tr>\n",
       "    <tr>\n",
       "      <th>3</th>\n",
       "      <td>Bengaluru</td>\n",
       "      <td>https://www.naukri.com/job-listings-Scala-Deve...</td>\n",
       "      <td>* I am looking to hire talented young develope...</td>\n",
       "      <td>3 - 4 yrs</td>\n",
       "      <td>Not Disclosed by Recruiter</td>\n",
       "      <td>Internet  /    Ecommerce</td>\n",
       "      <td>IT Software - DBA   ,     Datawarehousing</td>\n",
       "      <td>Programming &amp; Design</td>\n",
       "      <td>Software Developer</td>\n",
       "      <td>Java|Hadoop|LISP|SCALA|Programming|Machine Lea...</td>\n",
       "      <td>Pin Click - Startup</td>\n",
       "      <td>B.Tech/B.E. - Any Specialization</td>\n",
       "      <td></td>\n",
       "      <td>Doctorate Not Required</td>\n",
       "    </tr>\n",
       "    <tr>\n",
       "      <th>4</th>\n",
       "      <td>Bengaluru</td>\n",
       "      <td>https://www.naukri.com/job-listings-R-D-Engine...</td>\n",
       "      <td>Responsibilities:  \\tThe ideal candidate will ...</td>\n",
       "      <td>1 - 6 yrs</td>\n",
       "      <td>INR  6,50,000 - 12,00,000 P.A</td>\n",
       "      <td>IT-Software  /    Software Services</td>\n",
       "      <td>IT Software - Application Programming   ,     ...</td>\n",
       "      <td>Programming &amp; Design</td>\n",
       "      <td>Software Developer</td>\n",
       "      <td>Java|Maven|JUnit|Ant|Tomcat|Spring|Eclipse|JDB...</td>\n",
       "      <td>IPsoft Global Services Private Limited</td>\n",
       "      <td>B.Tech/B.E. - Any Specialization, Computers, M...</td>\n",
       "      <td>Any Postgraduate</td>\n",
       "      <td></td>\n",
       "    </tr>\n",
       "  </tbody>\n",
       "</table>\n",
       "</div>"
      ],
      "text/plain": [
       "    Location                                               Link  \\\n",
       "0     Mumbai  https://www.naukri.com/job-listings-Machine-Le...   \n",
       "1  Bengaluru  https://www.naukri.com/job-listings-Machine-Le...   \n",
       "2  Bengaluru  https://www.naukri.com/job-listings-Software-E...   \n",
       "3  Bengaluru  https://www.naukri.com/job-listings-Scala-Deve...   \n",
       "4  Bengaluru  https://www.naukri.com/job-listings-R-D-Engine...   \n",
       "\n",
       "                                     Job Description Experience  \\\n",
       "0  We are looking for a machine learning scientis...  3 - 4 yrs   \n",
       "1  Research & Development (R&D) Engineer  Job des...  2 - 5 yrs   \n",
       "2  Work in cohesion with the R&D team towards bui...  1 - 5 yrs   \n",
       "3  * I am looking to hire talented young develope...  3 - 4 yrs   \n",
       "4  Responsibilities:  \\tThe ideal candidate will ...  1 - 6 yrs   \n",
       "\n",
       "                           Salary                             Industry  \\\n",
       "0      Not Disclosed by Recruiter  IT-Software  /    Software Services   \n",
       "1  INR  10,00,000 - 15,00,000 P.A  IT-Software  /    Software Services   \n",
       "2      Not Disclosed by Recruiter  IT-Software  /    Software Services   \n",
       "3      Not Disclosed by Recruiter             Internet  /    Ecommerce   \n",
       "4   INR  6,50,000 - 12,00,000 P.A  IT-Software  /    Software Services   \n",
       "\n",
       "                                     Functional Area         Role Category  \\\n",
       "0                  Analytics & Business Intelligence        Analytics & BI   \n",
       "1  IT Software - Application Programming   ,     ...  Programming & Design   \n",
       "2          IT Software - DBA   ,     Datawarehousing  Programming & Design   \n",
       "3          IT Software - DBA   ,     Datawarehousing  Programming & Design   \n",
       "4  IT Software - Application Programming   ,     ...  Programming & Design   \n",
       "\n",
       "          Design Role                                             Skills  \\\n",
       "0        Data Analyst  Machine Learning|Natural Language Processing|N...   \n",
       "1  Software Developer  Algorithms|Machine Learning|Python|Artificial ...   \n",
       "2  Software Developer  R|D|Machine Learning|NLP|Software Engineering|...   \n",
       "3  Software Developer  Java|Hadoop|LISP|SCALA|Programming|Machine Lea...   \n",
       "4  Software Developer  Java|Maven|JUnit|Ant|Tomcat|Spring|Eclipse|JDB...   \n",
       "\n",
       "                             Company Name  \\\n",
       "0                            Premium-Jobs   \n",
       "1  IPsoft Global Services Private Limited   \n",
       "2                            Premium-Jobs   \n",
       "3                     Pin Click - Startup   \n",
       "4  IPsoft Global Services Private Limited   \n",
       "\n",
       "                                                  UG                PG  \\\n",
       "0                  Any Graduate - Any Specialization                     \n",
       "1                            B.Tech/B.E. - Computers                     \n",
       "2                  Any Graduate - Any Specialization                     \n",
       "3                   B.Tech/B.E. - Any Specialization                     \n",
       "4  B.Tech/B.E. - Any Specialization, Computers, M...  Any Postgraduate   \n",
       "\n",
       "                Doctorate  \n",
       "0  Doctorate Not Required  \n",
       "1                          \n",
       "2  Doctorate Not Required  \n",
       "3  Doctorate Not Required  \n",
       "4                          "
      ]
     },
     "execution_count": 118,
     "metadata": {},
     "output_type": "execute_result"
    }
   ],
   "source": [
    "naukri_df.head()"
   ]
  },
  {
   "cell_type": "code",
   "execution_count": null,
   "metadata": {
    "collapsed": true
   },
   "outputs": [],
   "source": []
  }
 ],
 "metadata": {
  "kernelspec": {
   "display_name": "Python 3",
   "language": "python",
   "name": "python3"
  },
  "language_info": {
   "codemirror_mode": {
    "name": "ipython",
    "version": 3
   },
   "file_extension": ".py",
   "mimetype": "text/x-python",
   "name": "python",
   "nbconvert_exporter": "python",
   "pygments_lexer": "ipython3",
   "version": "3.7.1"
  }
 },
 "nbformat": 4,
 "nbformat_minor": 1
}
