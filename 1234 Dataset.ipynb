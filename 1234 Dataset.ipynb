{
 "cells": [
  {
   "cell_type": "code",
   "execution_count": 45,
   "metadata": {},
   "outputs": [],
   "source": [
    "#CoreEngineering\n",
    "import numpy as np\n",
    "mean = [0.5, 0.60, 0.25, 0.4, 0.6, 0.5, 0.4]\n",
    "deviation = [0.1, 0.15, 0.1, 0.3, 0.2, 0.1, 0.1]\n",
    "precision = 3\n",
    "generate_itr = 1000\n",
    "count_one_itr = 250"
   ]
  },
  {
   "cell_type": "code",
   "execution_count": 46,
   "metadata": {},
   "outputs": [],
   "source": [
    "covariance = np.diag(deviation)"
   ]
  },
  {
   "cell_type": "code",
   "execution_count": 47,
   "metadata": {},
   "outputs": [],
   "source": [
    "dataset = np.array([mean]);\n",
    "for i in range(generate_itr):\n",
    "    x = np.random.multivariate_normal(mean, covariance, count_one_itr)\n",
    "    x = x[x.min(axis=1)>=0,:]  # removing values less than 0\n",
    "    x = x[x.max(axis=1)<=1,:]  # removing values greater than 1\n",
    "    dataset = np.append(dataset,x,axis=0)"
   ]
  },
  {
   "cell_type": "code",
   "execution_count": 48,
   "metadata": {},
   "outputs": [],
   "source": [
    "factor = 10**precision\n",
    "dataset = dataset*factor\n",
    "c = dataset.ravel()\n",
    "for i in range(c.size):\n",
    "    c[i] = int(c[i])\n",
    "dataset = dataset/factor"
   ]
  },
  {
   "cell_type": "code",
   "execution_count": 49,
   "metadata": {},
   "outputs": [],
   "source": [
    "import csv\n",
    "with open(\"Core.csv\",\"w+\",newline='') as my_csv:\n",
    "    csvWriter = csv.writer(my_csv,delimiter=',')\n",
    "    csvWriter.writerows(dataset)"
   ]
  },
  {
   "cell_type": "code",
   "execution_count": 7,
   "metadata": {},
   "outputs": [],
   "source": [
    "def addy(filename,i,data):\n",
    "    with open(filename,'r') as csvfile: \n",
    "        csvreader = csv.reader(csvfile)  \n",
    "        for row in csvreader:\n",
    "            row.append(i)\n",
    "            data.append(row)"
   ]
  },
  {
   "cell_type": "code",
   "execution_count": 9,
   "metadata": {},
   "outputs": [],
   "source": [
    "import csv \n",
    "data = []\n",
    "addy(\"Consultancy.csv\",1,data)\n",
    "addy(\"Finance.csv\",2,data)\n",
    "addy(\"Analytics.csv\",3,data)\n",
    "addy(\"IAS.csv\",4,data)\n",
    "addy(\"MBA.csv\",5,data)\n",
    "addy(\"MsPhd.csv\",6,data)\n",
    "addy(\"IT.csv\",7,data)\n",
    "addy(\"Core.csv\",8,data)\n",
    "with open(\"neuraldataset.csv\",\"w+\",newline='') as my_csv:\n",
    "    csvWriter = csv.writer(my_csv,delimiter=',')\n",
    "    csvWriter.writerows(data)"
   ]
  }
 ],
 "metadata": {
  "kernelspec": {
   "display_name": "Python 3",
   "language": "python",
   "name": "python3"
  },
  "language_info": {
   "codemirror_mode": {
    "name": "ipython",
    "version": 3
   },
   "file_extension": ".py",
   "mimetype": "text/x-python",
   "name": "python",
   "nbconvert_exporter": "python",
   "pygments_lexer": "ipython3",
   "version": "3.7.1"
  }
 },
 "nbformat": 4,
 "nbformat_minor": 2
}
