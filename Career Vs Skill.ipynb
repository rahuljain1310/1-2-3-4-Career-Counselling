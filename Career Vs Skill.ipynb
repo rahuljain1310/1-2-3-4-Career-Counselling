{
 "cells": [
  {
   "cell_type": "code",
   "execution_count": null,
   "metadata": {},
   "outputs": [],
   "source": [
    "# Import the required libraries\n",
    "import bs4\n",
    "import urllib3\n",
    "import csv\n",
    "urllib3.disable_warnings()\n",
    "http = urllib3.PoolManager()"
   ]
  },
  {
   "cell_type": "code",
   "execution_count": null,
   "metadata": {},
   "outputs": [],
   "source": [
    "# All JD of given job\n",
    "def get_JDs(jobs_list):    \n",
    "    one_job_list = []\n",
    "    base_url = 'https://www.indeed.co.in'\n",
    "    for x in jobs_list:\n",
    "        print(base_url+x)\n",
    "        r = http.request('GET', base_url+x)\n",
    "        source = r.data\n",
    "        if(r.status==200):\n",
    "            soup = bs4.BeautifulSoup(source, \"lxml\")\n",
    "            job_description = [link for link in soup.findAll('div',{\"class\": \"jobsearch-JobComponent-description\"}) ]\n",
    "            one_job_list.append(job_description)\n",
    "    return one_job_list"
   ]
  },
  {
   "cell_type": "code",
   "execution_count": null,
   "metadata": {},
   "outputs": [],
   "source": [
    "def url_query(job):\n",
    "    Url_List = []\n",
    "    job = job.strip().replace(\" \",\"+\")\n",
    "    base_url = 'https://www.indeed.co.in/jobs?l=India&q='\n",
    "    job_url_default = base_url+job\n",
    "    Url_List.append(job_url_default)\n",
    "    job_url_page = job_url_default+'&start='\n",
    "    for i in range(1,2):             \n",
    "        Url_List.append(job_url_page+str(10*i))\n",
    "    return Url_List"
   ]
  },
  {
   "cell_type": "code",
   "execution_count": null,
   "metadata": {},
   "outputs": [],
   "source": [
    "def JDfrompage (page_url):\n",
    "    r = http.request('GET', page_url)\n",
    "    source = r.data\n",
    "    soup = bs4.BeautifulSoup(source, \"lxml\")\n",
    "    all_div = [div for div in soup.findAll('div',{\"class\": \"jobsearch-SerpJobCard\"}) ]\n",
    "    all_jk = [div.get('data-jk') for div in all_div]\n",
    "    print(all_jk)\n",
    "    all_a = []\n",
    "#     for div in all_div:\n",
    "#         a = [link.get('href') for link in div.findAll('a',{\"class\": \"turnstileLink\"})]\n",
    "#         try:\n",
    "#             all_a.append(a[0])\n",
    "#         except:\n",
    "#             pass\n",
    "    return all_a"
   ]
  },
  {
   "cell_type": "code",
   "execution_count": null,
   "metadata": {},
   "outputs": [],
   "source": [
    "def filterWords(allWords):\n",
    "    removewords = ['p','div','while','total','been','e','our','like','new','which','help','s','all','some','if','what','about','only','on','then','will','no','at','a','for','us','not','etc','we','that','it','the','of','as','an','may','have','has','this','other','from','with','its','be','in','is','am','now','you','some','was','can','are','but','they','he','she','where','when','and','or','them','how','by','to']\n",
    "    selWords = [word for word in allWords if word not in removewords]\n",
    "    selWords = [word for word in selWords if not str.isdigit(word)]\n",
    "    return selWords\n",
    "def filtercharacter(string):\n",
    "    removechar = ['\"',\"'\",'?',',','‘','’','-','(',')',':','—','/','<','>']\n",
    "    string = [c if c not in removechar else ' ' for c in string ]\n",
    "    return ''.join(string)"
   ]
  },
  {
   "cell_type": "code",
   "execution_count": null,
   "metadata": {},
   "outputs": [],
   "source": [
    "# Creating list of all jobs\n",
    "Jobtype = [\"Android Developer\"\n",
    "           ,\"Web Developer\"\n",
    "           ,\"Consultant\"\n",
    "           ,\"Finance\"\n",
    "           ,\"Data Scientist\"\n",
    "           ,\"Business Analyst\"\n",
    "           ,\"Designer\"\n",
    "           ,\"Mechanical Engineer\"\n",
    "           ,\"Electrical Engineer\"\n",
    "           ,\"Civil Engineer\"\n",
    "           ,\"Chemical Engineer\"\n",
    "           ,\"Software Developer\"\n",
    "           ,\"Game Developer\"]"
   ]
  },
  {
   "cell_type": "code",
   "execution_count": null,
   "metadata": {},
   "outputs": [],
   "source": [
    "JobAndJDs = []\n",
    "for job in Jobtype:\n",
    "    all_pages_url = url_query(job)\n",
    "    job_list = []\n",
    "    for url in all_pages_url:\n",
    "        x = JDfrompage(url)   # list of all jobs from that url\n",
    "        job_list = job_list+x\n",
    "    print(job_list)\n",
    "    all_JD = get_JDs(job_list)\n",
    "    t = (job,all_JD)\n",
    "    JobAndJDs.append(t)\n",
    "    print(job+ \":- Total JDs = \"+str(len(all_JD)))"
   ]
  }
 ],
 "metadata": {
  "kernelspec": {
   "display_name": "Python 3",
   "language": "python",
   "name": "python3"
  },
  "language_info": {
   "codemirror_mode": {
    "name": "ipython",
    "version": 3
   },
   "file_extension": ".py",
   "mimetype": "text/x-python",
   "name": "python",
   "nbconvert_exporter": "python",
   "pygments_lexer": "ipython3",
   "version": "3.7.1"
  }
 },
 "nbformat": 4,
 "nbformat_minor": 2
}
