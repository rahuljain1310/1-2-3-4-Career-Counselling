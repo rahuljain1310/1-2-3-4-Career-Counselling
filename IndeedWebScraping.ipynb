{
 "cells": [
  {
   "cell_type": "code",
   "execution_count": 29,
   "metadata": {},
   "outputs": [],
   "source": [
    "# Import the required libraries\n",
    "import bs4\n",
    "import urllib3\n",
    "urllib3.disable_warnings()\n",
    "http = urllib3.PoolManager()"
   ]
  },
  {
   "cell_type": "code",
   "execution_count": 30,
   "metadata": {},
   "outputs": [],
   "source": [
    "# All JD of given job\n",
    "def get_JDs(jobs_list):    \n",
    "    one_job_list = []\n",
    "    for x in jobs_list:\n",
    "        r = http.request('GET', base_url)\n",
    "        source = r.data\n",
    "        if(r.status==200):\n",
    "            soup = bs4.BeautifulSoup(source, \"lxml\")\n",
    "            job_description = [link for link in soup.findAll('div',{\"class\": \"jobsearch-JobComponent-description\"}) ]\n",
    "            one_job_list.append(job_description)\n",
    "    return one_job_list"
   ]
  },
  {
   "cell_type": "code",
   "execution_count": 31,
   "metadata": {},
   "outputs": [],
   "source": [
    "def url_query(job):\n",
    "    Url_List = []\n",
    "    job = job.strip().replace(\" \",\"+\")\n",
    "    base_url = 'https://www.indeed.co.in/jobs?l=India&q='\n",
    "    job_url_default = base_url+job\n",
    "    Url_List.append(job_url_default)\n",
    "    job_url_page = job_url_default+'&start='\n",
    "#     for i in range(1,2):             \n",
    "#         Url_List.append(job_url_page+str(10*i))\n",
    "    return Url_List"
   ]
  },
  {
   "cell_type": "code",
   "execution_count": 32,
   "metadata": {},
   "outputs": [],
   "source": [
    "def JDfrompage (page_url):\n",
    "    r = http.request('GET', page_url)\n",
    "    source = r.data\n",
    "    soup = bs4.BeautifulSoup(source, \"lxml\")\n",
    "    all_div = [div for div in soup.findAll('div',{\"class\": \"jobsearch-SerpJobCard\"}) ]\n",
    "    all_a = []\n",
    "    for div in all_div:\n",
    "        a = [link.get('href') for link in div.findAll('a',{\"class\": \"turnstileLink\"})]\n",
    "        try:\n",
    "            all_a.append(a[0])\n",
    "        except:\n",
    "            pass\n",
    "    return all_a"
   ]
  },
  {
   "cell_type": "code",
   "execution_count": 33,
   "metadata": {},
   "outputs": [],
   "source": [
    "# Creating list of all jobs\n",
    "Jobtype = [\"Machine Learning\"\n",
    "           ,\"Artificial Intelligence\"\n",
    "           ,\"Android Developement\"\n",
    "           ,\"Web Development\"\n",
    "           ,\"Database Management\"\n",
    "           ,\"Consultancy\"\n",
    "           ,\"Finance\"\n",
    "           ,\"Data Science\"\n",
    "           ,\"Business Analyst\"\n",
    "           ,\"IOT\"\n",
    "           ,\"Designing\"\n",
    "           ,\"Mechanical Engineering\"\n",
    "           ,\"Electrical Engineering\"\n",
    "           ,\"Civil Engineering\"\n",
    "           ,\"Chemical Engineering\"\n",
    "           ,\"Software Developer\"\n",
    "           ,\"Game Developer\"]"
   ]
  },
  {
   "cell_type": "code",
   "execution_count": 34,
   "metadata": {},
   "outputs": [
    {
     "name": "stdout",
     "output_type": "stream",
     "text": [
      "Machine Learning:- Total JDs = 16\n",
      "Artificial Intelligence:- Total JDs = 11\n",
      "Android Developement:- Total JDs = 10\n",
      "Web Development:- Total JDs = 16\n",
      "Database Management:- Total JDs = 16\n",
      "Consultancy:- Total JDs = 16\n",
      "Finance:- Total JDs = 16\n",
      "Data Science:- Total JDs = 15\n",
      "Business Analyst:- Total JDs = 16\n",
      "IOT:- Total JDs = 16\n",
      "Designing:- Total JDs = 15\n",
      "Mechanical Engineering:- Total JDs = 16\n",
      "Electrical Engineering:- Total JDs = 16\n",
      "Civil Engineering:- Total JDs = 15\n",
      "Chemical Engineering:- Total JDs = 13\n",
      "Software Developer:- Total JDs = 16\n",
      "Game Developer:- Total JDs = 16\n"
     ]
    }
   ],
   "source": [
    "JobAndJDs = []\n",
    "for job in Jobtype:\n",
    "    all_pages_url = url_query(job)\n",
    "    job_list = []\n",
    "    for url in all_pages_url:\n",
    "        x = JDfrompage(url)   # list of all jobs from that url\n",
    "        job_list = job_list+x\n",
    "    all_JD = get_JDs(job_list)\n",
    "    t = (job,all_JD)\n",
    "    JobAndJDs.append(t)\n",
    "    print(job+ \":- Total JDs = \"+str(len(all_JD)))"
   ]
  },
  {
   "cell_type": "code",
   "execution_count": null,
   "metadata": {},
   "outputs": [],
   "source": []
  }
 ],
 "metadata": {
  "kernelspec": {
   "display_name": "Python 3",
   "language": "python",
   "name": "python3"
  },
  "language_info": {
   "codemirror_mode": {
    "name": "ipython",
    "version": 3
   },
   "file_extension": ".py",
   "mimetype": "text/x-python",
   "name": "python",
   "nbconvert_exporter": "python",
   "pygments_lexer": "ipython3",
   "version": "3.7.1"
  }
 },
 "nbformat": 4,
 "nbformat_minor": 2
}
