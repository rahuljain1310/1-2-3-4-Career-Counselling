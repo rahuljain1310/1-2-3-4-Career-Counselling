{
 "cells": [
  {
   "cell_type": "code",
   "execution_count": 2,
   "metadata": {},
   "outputs": [],
   "source": [
    "import os\n",
    "import csv\n",
    "import numpy"
   ]
  },
  {
   "cell_type": "code",
   "execution_count": 85,
   "metadata": {},
   "outputs": [
    {
     "data": {
      "text/plain": [
       "['amazon_jobs_dataset.csv',\n",
       " 'GoogleJobSkills.csv',\n",
       " 'Jobs.zip',\n",
       " 'naukri_com-job_sample.csv',\n",
       " 'OnlineJobPostings.csv']"
      ]
     },
     "execution_count": 85,
     "metadata": {},
     "output_type": "execute_result"
    }
   ],
   "source": [
    "x = os.listdir('JobCsv')"
   ]
  },
  {
   "cell_type": "code",
   "execution_count": 32,
   "metadata": {},
   "outputs": [
    {
     "name": "stdout",
     "output_type": "stream",
     "text": [
      "22001\n"
     ]
    }
   ],
   "source": [
    "rows = []\n",
    "with open('JobCsv/naukri_com-job_sample.csv','r',encoding=\"utf8\") as csvfile:\n",
    "    csvReader = csv.reader(csvfile)\n",
    "    for c in csvReader:\n",
    "        rows.append(c) \n",
    "naukri = [(m[7],m[3],m[4][42:m[4].find('Education- ')]) for m in rows]\n",
    "print(len(naukri))"
   ]
  },
  {
   "cell_type": "code",
   "execution_count": 112,
   "metadata": {},
   "outputs": [],
   "source": [
    "# rows = []\n",
    "# with open('JobCsv/GoogleJobSkills.csv','r',encoding=\"utf8\") as csvfile:\n",
    "#     csvReader = csv.reader(csvfile)\n",
    "#     for c in csvReader:\n",
    "#         rows.append(c)\n",
    "# google = [(m[1],m[2]) for m in rows]"
   ]
  },
  {
   "cell_type": "code",
   "execution_count": 28,
   "metadata": {},
   "outputs": [],
   "source": [
    "# rows = []\n",
    "# with open('JobCsv/amazon_jobs_dataset.csv','r',encoding=\"utf8\") as csvfile:\n",
    "#     csvReader = csv.reader(csvfile)\n",
    "#     for c in csvReader:\n",
    "#         rows.append(c)\n",
    "# amazon = [(m[1]) for m in rows]"
   ]
  },
  {
   "cell_type": "code",
   "execution_count": 31,
   "metadata": {},
   "outputs": [
    {
     "name": "stdout",
     "output_type": "stream",
     "text": [
      "17564\n"
     ]
    }
   ],
   "source": [
    "# x = [c[1] for c in google]\n",
    "# google_category = list(dict.fromkeys(x))\n",
    "# print(google_category[1:])\n",
    "x = [c[0] for c in naukri]\n",
    "naukri_category = list(dict.fromkeys(x))\n",
    "# print(naukri_category[1:])\n",
    "exh_cat = naukri_category[1:]\n",
    "print(len(exh_cat))"
   ]
  },
  {
   "cell_type": "code",
   "execution_count": null,
   "metadata": {},
   "outputs": [],
   "source": [
    "def getJD (job):\n",
    "    x = []\n",
    "    for m in exhcat:\n",
    "        if m[0]==job:\n",
    "            x.append(m[2])\n",
    "    return x"
   ]
  },
  {
   "cell_type": "code",
   "execution_count": 36,
   "metadata": {},
   "outputs": [
    {
     "name": "stdout",
     "output_type": "stream",
     "text": [
      "<html>\n",
      " <head>\n",
      "  <title>\n",
      "   Access Denied\n",
      "  </title>\n",
      " </head>\n",
      " <body>\n",
      "  <h1>\n",
      "   Access Denied\n",
      "  </h1>\n",
      "  You don't have permission to access \"http://www.naukri.com/job-listings-Machine-Learning-Accenture-Hyderabad-8-to-12-years-250319902283?\" on this server.\n",
      "  <p>\n",
      "   Reference #18.17c3e3dc.1554129021.a375a1\n",
      "  </p>\n",
      " </body>\n",
      "</html>\n"
     ]
    }
   ],
   "source": [
    "import requests \n",
    "from bs4 import BeautifulSoup \n",
    "\n",
    "URL = \"https://www.naukri.com/machine-learning-jobs\"\n",
    "URL = \"https://www.naukri.com/job-listings-Machine-Learning-Accenture-Hyderabad-8-to-12-years-250319902283?src=jobsearchDesk&sid=15541288257463&xp=2&px=1\"\n",
    "r = requests.get(URL)\n",
    "soup = BeautifulSoup(r.content, 'html5lib') \n",
    "print(soup.prettify())"
   ]
  },
  {
   "cell_type": "code",
   "execution_count": null,
   "metadata": {},
   "outputs": [],
   "source": []
  }
 ],
 "metadata": {
  "kernelspec": {
   "display_name": "Python 3",
   "language": "python",
   "name": "python3"
  },
  "language_info": {
   "codemirror_mode": {
    "name": "ipython",
    "version": 3
   },
   "file_extension": ".py",
   "mimetype": "text/x-python",
   "name": "python",
   "nbconvert_exporter": "python",
   "pygments_lexer": "ipython3",
   "version": "3.7.1"
  }
 },
 "nbformat": 4,
 "nbformat_minor": 2
}
