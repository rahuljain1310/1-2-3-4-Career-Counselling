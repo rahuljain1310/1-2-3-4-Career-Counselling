{
 "cells": [
  {
   "cell_type": "code",
   "execution_count": 3,
   "metadata": {
    "scrolled": true
   },
   "outputs": [],
   "source": [
    "import tensorflow as tf\n",
    "import tensorflow_hub as hub\n",
    "import matplotlib.pyplot as plt\n",
    "import numpy as np\n",
    "import os\n",
    "import pandas as pd\n",
    "import re\n",
    "import seaborn as sns"
   ]
  },
  {
   "cell_type": "code",
   "execution_count": 4,
   "metadata": {},
   "outputs": [],
   "source": [
    "module_url='../tfhub_modules/1fb57c3ffe1a38479233ee9853ddd7a8ac8a8c47'"
   ]
  },
  {
   "cell_type": "code",
   "execution_count": 5,
   "metadata": {},
   "outputs": [],
   "source": [
    "#Flatten lists of list to a single list\n",
    "flatten = lambda l: [item for sublist in l for item in sublist]"
   ]
  },
  {
   "cell_type": "code",
   "execution_count": 6,
   "metadata": {},
   "outputs": [
    {
     "name": "stdout",
     "output_type": "stream",
     "text": [
      "WARNING:tensorflow:From C:\\Users\\rahul\\Anaconda3\\lib\\site-packages\\tensorflow\\python\\ops\\control_flow_ops.py:3632: colocate_with (from tensorflow.python.framework.ops) is deprecated and will be removed in a future version.\n",
      "Instructions for updating:\n",
      "Colocations handled automatically by placer.\n"
     ]
    }
   ],
   "source": [
    "#Sentence Embedding Module\n",
    "embed=hub.Module(module_url)"
   ]
  },
  {
   "cell_type": "code",
   "execution_count": 7,
   "metadata": {},
   "outputs": [],
   "source": [
    "#Sentence Embedding\n",
    "def get_features(messages):\n",
    "    with tf.Session() as session:\n",
    "        session.run([tf.global_variables_initializer(), tf.tables_initializer()])\n",
    "        message_embeddings = session.run(embed(messages))\n",
    "        print(message_embeddings.shape)\n",
    "        return message_embeddings\n",
    "\n",
    "#Similarity b/w sentence Vectors\n",
    "def cosine_similarity(v1, v2):\n",
    "    mag1 = np.linalg.norm(v1)\n",
    "    mag2 = np.linalg.norm(v2)\n",
    "    if (not mag1) or (not mag2):\n",
    "        return 0\n",
    "    return np.dot(v1, v2) / (mag1 * mag2)\n",
    "\n",
    "#Semanticity Matching   \n",
    "def semantic_search(text, data, vectors):\n",
    "    print(\"Extracting features...\")\n",
    "    query_vec = get_features(text)\n",
    "    print(query_vec.shape)\n",
    "    res = []\n",
    "    for i, d in enumerate(data):\n",
    "        qvec = vectors[i].ravel()\n",
    "        sim = cosine_similarity(query_vec, qvec)\n",
    "        res.append((sim, d, i))\n",
    "    return sorted(res, key=lambda x : x[0], reverse=True)"
   ]
  },
  {
   "cell_type": "markdown",
   "metadata": {},
   "source": [
    "base_dir=u'/Users/kumarshubham/Desktop/1234'\n",
    "print(os.listdir(base_dir))"
   ]
  },
  {
   "cell_type": "markdown",
   "metadata": {},
   "source": [
    "skills=pd.read_csv(os.path.join(base_dir,u'resume_skills.csv'),header=None)[4].values\n",
    "skills=[x.replace(',','\\n').replace('\\xe2\\x80\\xa2','').replace('\\t','').replace('\\xef\\x83\\x98','').replace('.','\\n').replace('\\r','\\n').split('\\n') for x in skills]\n",
    "skills=np.unique(flatten(skills))[2:]\n",
    "SkillVectors=get_features(skills)"
   ]
  },
  {
   "cell_type": "markdown",
   "metadata": {},
   "source": [
    "for i,j in enumerate(skills):\n",
    "    print(i,j)"
   ]
  },
  {
   "cell_type": "code",
   "execution_count": 1,
   "metadata": {},
   "outputs": [],
   "source": [
    "messages=['C++','python','dance','singing','java']"
   ]
  },
  {
   "cell_type": "code",
   "execution_count": 10,
   "metadata": {},
   "outputs": [
    {
     "name": "stdout",
     "output_type": "stream",
     "text": [
      "INFO:tensorflow:Saver not created because there are no variables in the graph to restore\n",
      "(5, 512)\n"
     ]
    }
   ],
   "source": [
    "MessageEmbedding=get_features(messages)"
   ]
  },
  {
   "cell_type": "code",
   "execution_count": 13,
   "metadata": {},
   "outputs": [
    {
     "data": {
      "text/plain": [
       "0.199968"
      ]
     },
     "execution_count": 13,
     "metadata": {},
     "output_type": "execute_result"
    }
   ],
   "source": [
    "cosine_similarity(MessageEmbedding[2],MessageEmbedding[1])"
   ]
  },
  {
   "cell_type": "code",
   "execution_count": 14,
   "metadata": {},
   "outputs": [
    {
     "name": "stdout",
     "output_type": "stream",
     "text": [
      "Extracting features...\n",
      "INFO:tensorflow:Saver not created because there are no variables in the graph to restore\n",
      "(1, 512)\n",
      "(1, 512)\n"
     ]
    },
    {
     "data": {
      "text/plain": [
       "[(array([0.665367], dtype=float32), 'C++', 0),\n",
       " (array([0.5668749], dtype=float32), 'python', 1),\n",
       " (array([0.5355615], dtype=float32), 'java', 4),\n",
       " (array([0.170664], dtype=float32), 'singing', 3),\n",
       " (array([0.16922483], dtype=float32), 'dance', 2)]"
      ]
     },
     "execution_count": 14,
     "metadata": {},
     "output_type": "execute_result"
    }
   ],
   "source": [
    "semantic_search([\"Good in programming\"],messages,MessageEmbedding)"
   ]
  },
  {
   "cell_type": "code",
   "execution_count": 36,
   "metadata": {},
   "outputs": [
    {
     "name": "stdout",
     "output_type": "stream",
     "text": [
      "Extracting features...\n",
      "INFO:tensorflow:Saver not created because there are no variables in the graph to restore\n",
      "(1, 512)\n",
      "(1, 512)\n"
     ]
    },
    {
     "data": {
      "text/plain": [
       "[(array([0.2978276], dtype=float32), 'dance', 2),\n",
       " (array([0.28717256], dtype=float32), 'singing', 3),\n",
       " (array([0.24003111], dtype=float32), 'C++', 0),\n",
       " (array([0.20734593], dtype=float32), 'python', 1)]"
      ]
     },
     "execution_count": 36,
     "metadata": {},
     "output_type": "execute_result"
    }
   ],
   "source": [
    "semantic_search([\"personality\"],messages,MessageEmbedding)"
   ]
  },
  {
   "cell_type": "code",
   "execution_count": 37,
   "metadata": {},
   "outputs": [
    {
     "name": "stdout",
     "output_type": "stream",
     "text": [
      "Extracting features...\n",
      "INFO:tensorflow:Saver not created because there are no variables in the graph to restore\n",
      "(1, 512)\n",
      "(1, 512)\n"
     ]
    },
    {
     "data": {
      "text/plain": [
       "[(array([0.47211316], dtype=float32), 'python', 1),\n",
       " (array([0.4638889], dtype=float32), 'C++', 0),\n",
       " (array([0.28613144], dtype=float32), 'singing', 3),\n",
       " (array([0.26495633], dtype=float32), 'dance', 2)]"
      ]
     },
     "execution_count": 37,
     "metadata": {},
     "output_type": "execute_result"
    }
   ],
   "source": [
    "semantic_search([\"script\"],messages,MessageEmbedding)"
   ]
  },
  {
   "cell_type": "code",
   "execution_count": null,
   "metadata": {},
   "outputs": [],
   "source": [
    "skills[277]"
   ]
  },
  {
   "cell_type": "code",
   "execution_count": 16,
   "metadata": {},
   "outputs": [],
   "source": [
    "from sklearn.cluster import KMeans\n",
    "kmeans=KMeans(n_clusters=2,random_state=0).fit(MessageEmbedding)\n",
    "Clusters=kmeans.labels_\n",
    "ClusterCenters=kmeans.cluster_centers_"
   ]
  },
  {
   "cell_type": "code",
   "execution_count": 25,
   "metadata": {},
   "outputs": [],
   "source": [
    "def Predict_kmeans(texts,kmeans):\n",
    "    embeddings=get_features(texts)\n",
    "    return kmeans.predict(embeddings)"
   ]
  },
  {
   "cell_type": "code",
   "execution_count": 17,
   "metadata": {},
   "outputs": [
    {
     "data": {
      "text/plain": [
       "array([0, 0, 1, 1], dtype=int32)"
      ]
     },
     "execution_count": 17,
     "metadata": {},
     "output_type": "execute_result"
    }
   ],
   "source": [
    "Clusters"
   ]
  },
  {
   "cell_type": "code",
   "execution_count": 26,
   "metadata": {},
   "outputs": [
    {
     "name": "stdout",
     "output_type": "stream",
     "text": [
      "INFO:tensorflow:Saver not created because there are no variables in the graph to restore\n",
      "(1, 512)\n"
     ]
    },
    {
     "data": {
      "text/plain": [
       "array([0], dtype=int32)"
      ]
     },
     "execution_count": 26,
     "metadata": {},
     "output_type": "execute_result"
    }
   ],
   "source": [
    "Predict_kmeans(['java'],kmeans)"
   ]
  },
  {
   "cell_type": "code",
   "execution_count": null,
   "metadata": {},
   "outputs": [],
   "source": []
  }
 ],
 "metadata": {
  "kernelspec": {
   "display_name": "Python 3",
   "language": "python",
   "name": "python3"
  },
  "language_info": {
   "codemirror_mode": {
    "name": "ipython",
    "version": 3
   },
   "file_extension": ".py",
   "mimetype": "text/x-python",
   "name": "python",
   "nbconvert_exporter": "python",
   "pygments_lexer": "ipython3",
   "version": "3.7.1"
  }
 },
 "nbformat": 4,
 "nbformat_minor": 2
}
